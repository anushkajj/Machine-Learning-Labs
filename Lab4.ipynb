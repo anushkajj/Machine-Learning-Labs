{
  "nbformat": 4,
  "nbformat_minor": 0,
  "metadata": {
    "colab": {
      "name": "2017B1A70975_lab4.ipynb",
      "provenance": [],
      "collapsed_sections": []
    },
    "kernelspec": {
      "name": "python3",
      "display_name": "Python 3"
    }
  },
  "cells": [
    {
      "cell_type": "markdown",
      "metadata": {
        "id": "daIHpvXhWbPV"
      },
      "source": [
        "# Bayesian Learning\r\n",
        "Welcome to the 4th session on Machine Learning practicals. In this session, we'll learn about a classic Machine Learning method - the Bayesian Learning method. The Bayesian approach towards problem solving is completely based on probabilities. This aligns with the idea behind Machine Learning, since in the latter too, every prediction is visualised as a probability. \r\n",
        "\r\n",
        "For example, in logistic regression, the final output (the output from the sigmoid function) lies between 0 and 1. We visualize the output as the *probability that the prediction is 1*, and `1-output` as the *probability that the prediction is 0*. And we create a threshold, meaning any prediction less than 0.5 is not acceptable as a prediction of 1. (Or in other words, you should be atleast 50% sure that the prediction is a 1). Let us take an example - suppose a logistic regression model returns 0.8 as the output for a particular input, the model is 80% sure that the prediction is equal to a 1, and 20% sure that the prediction is equal to a 1. We do qualify this prediction as a 1. However, the aim of training a model is to adjust the parameters in such a way that this probability is maximized for all inputs.\r\n",
        "\r\n",
        "So Bayesian Learning is an important stepping stone towards Machine Learning. However, its a very crude form of Learning - or in other words, a very superficial form of learning - it learns the pattern of *distribution* of data directly, and nothing else. No intrinsic features are learned, all learned features are independent and remain uncorrelated, etc. But still, Many researchers still find Bayesian Learning a useful tool to use in ensemble with modern Machine Learning techniques. This is because despite its straight forward approach, it is the purest form of data representation - it gathers * all * the information that the distribution of the data provides - no more and no less. We will look into these details in the following sections. \r\n",
        "\r\n",
        "In this session, we will learn about 2 important Bayesian Learning approaaches - the **Naive Bayes Classifier** and **Markov Model**. So let us begin!"
      ]
    },
    {
      "cell_type": "markdown",
      "metadata": {
        "id": "-Wz6fNowdjsv"
      },
      "source": [
        "## The Naive Bayes Classifier\r\n",
        "The Naive Bayes Classifier simply provides us with the information - given a dataset, what is the probability that a particular model gives correct classification on the data.\r\n",
        "\r\n",
        "You must have come across the Bayes Equation:\r\n",
        "\r\n",
        "$ P(E|D) = \\frac{P(E) P(D|E)}{P(D)}$\r\n",
        "\r\n",
        "The D refers to our data. We would always have some data that we wish to build a model upon. The $E$ refers to the *evidence*, or simply the prediction of the model. So in simpler terms - \r\n",
        "\r\n",
        "\r\n",
        "$ P(pred|data) = \\frac{P(pred) P(data|pred)}{P(data)}$\r\n",
        "\r\n",
        "For each of different choices of predictions, the Bayes Theorem holds:\r\n",
        "\r\n",
        "$ P(pred=1|data) = \\frac{P(pred=1) P(data|pred=1)}{P(data)}$\r\n",
        "\r\n",
        "$ P(pred=0|data) = \\frac{P(pred=0) P(data|pred=0)}{P(data)}$\r\n",
        "\r\n",
        "... and so on.\r\n",
        "\r\n",
        "But these math equations don't make a lot of sense. Let us try to get an intuitive understanding of their meanings. \r\n",
        "\r\n",
        "1. P(data) simply means - what is the probability that a particular data results in the correct prediction. Obviously, one datapoint may have many features. This can be represented as `P(data) = P(feature1 AND feature2 AND .... AND featureN)`, meaning, what is the probability of getting a correct prediction when value of feature1 is such, the value of feature2 is such, and so on. In Probability, when you want to find the probability of *a combination* of different occurences, you can simply multiply the individual probabilities. \r\n",
        "\r\n",
        " $P(data = (f1,f2,f3,....fN)) = P(f1)P(f2)...P(fN)$\r\n",
        "\r\n",
        " P(f1) simply means - what is the probability of f1 attaining a particular value. This can be found out from the dataset itself, using a *frequentist approach*, meaning, out of all the data, how many of feature f1's have *one* particular value.\r\n",
        "\r\n",
        "\r\n",
        "2. So, $ P(data|pred)$ means that if whenever the prediction has a value, what would be the probability that if that particular data is passed in the model, this output is achieved. We will look at how to calculate this in the following subsection. T\r\n",
        "\r\n",
        "3. $P(pred)$ is simply the probability of occurence of a particular prediction. Basically, the fraction of data which has a particular *pred* value as the output.\r\n",
        "\r\n",
        "4. $P(pred|data)$ means, given a data point, having a particular set of features, what is the probability of obtaining a prediction, which is what we want to find out. Infact, this is what all Machine Learning wishes to find out. Even in logistic regression, we build a model that can predict an output with high probability, given some inputs. \r\n",
        "\r\n",
        "The proof of the Bayes theorem is actually quite simple, and can be found on the internet, or in the lecture classes as well!\r\n",
        "\r\n",
        "But let us see how to build a Naive Bayes Classifier. So first of all we would need some data. Let us try to pick an interesting classification problem. "
      ]
    },
    {
      "cell_type": "markdown",
      "metadata": {
        "id": "H6BSRiFH23kx"
      },
      "source": [
        "Let us pick the [Airplane Passenger Satisfaction](https://www.kaggle.com/teejmahal20/airline-passenger-satisfaction), which contains data about how satisfied passengers have been by the service of their respective flights. They have provided information about the flights and the passengers themselves, such as the class in which they traveled, their experience of food, in-flight entertainment, etc. This is a binary classification problem, meaning the experience reported is either satisfactory, or dissatisfactory. This dataset can be found on kaggle.com, and so, like always, we would need to upload the *kaggle.json* file. You must have it downloaded on your system from the last sessions. If not, you can download a fresh  Run the cell below to upload the kaggle.json file. "
      ]
    },
    {
      "cell_type": "code",
      "metadata": {
        "id": "aaZuRVY5Wagw",
        "colab": {
          "resources": {
            "http://localhost:8080/nbextensions/google.colab/files.js": {
              "data": "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",
              "ok": true,
              "headers": [
                [
                  "content-type",
                  "application/javascript"
                ]
              ],
              "status": 200,
              "status_text": "OK"
            }
          },
          "base_uri": "https://localhost:8080/",
          "height": 252
        },
        "outputId": "4e4146e1-788f-457e-c7ff-854cfe107e2b"
      },
      "source": [
        "%cd \r\n",
        "from google.colab import files\r\n",
        "uploaded = files.upload()\r\n",
        "for fn in uploaded.keys():\r\n",
        "  print('User uploaded file \"{name}\" with length {length} bytes'.format(\r\n",
        "      name=fn, length=len(uploaded[fn])))\r\n",
        "!mkdir -p ~/.kaggle/ && mv kaggle.json ~/.kaggle/ && chmod 600 ~/.kaggle/kaggle.json \r\n",
        "\r\n",
        "!kaggle datasets download -d teejmahal20/airline-passenger-satisfaction\r\n",
        "!unzip airline-passenger-satisfaction.zip \r\n",
        "!mkdir airline && mv test.csv airline && mv train.csv airline\r\n",
        "%cd airline\r\n",
        "!ls"
      ],
      "execution_count": 1,
      "outputs": [
        {
          "output_type": "stream",
          "text": [
            "/root\n"
          ],
          "name": "stdout"
        },
        {
          "output_type": "display_data",
          "data": {
            "text/html": [
              "\n",
              "     <input type=\"file\" id=\"files-51bdb3d4-b166-4b4c-9149-6c6608b2aea3\" name=\"files[]\" multiple disabled\n",
              "        style=\"border:none\" />\n",
              "     <output id=\"result-51bdb3d4-b166-4b4c-9149-6c6608b2aea3\">\n",
              "      Upload widget is only available when the cell has been executed in the\n",
              "      current browser session. Please rerun this cell to enable.\n",
              "      </output>\n",
              "      <script src=\"/nbextensions/google.colab/files.js\"></script> "
            ],
            "text/plain": [
              "<IPython.core.display.HTML object>"
            ]
          },
          "metadata": {
            "tags": []
          }
        },
        {
          "output_type": "stream",
          "text": [
            "Saving kaggle.json to kaggle.json\n",
            "User uploaded file \"kaggle.json\" with length 65 bytes\n",
            "Downloading airline-passenger-satisfaction.zip to /root\n",
            "  0% 0.00/2.71M [00:00<?, ?B/s]\n",
            "100% 2.71M/2.71M [00:00<00:00, 89.2MB/s]\n",
            "Archive:  airline-passenger-satisfaction.zip\n",
            "  inflating: test.csv                \n",
            "  inflating: train.csv               \n",
            "/root/airline\n",
            "test.csv  train.csv\n"
          ],
          "name": "stdout"
        }
      ]
    },
    {
      "cell_type": "markdown",
      "metadata": {
        "id": "REnE7OUlNpoH"
      },
      "source": [
        "So if you see, this dataset contains two csv files, namely the training dataset and the testing dataset. Let us import the pandas library to read these files, and visualize the dataset.\r\n",
        "\r\n",
        "For the sake of simplicity, we've removed all continuous variables, and only retained categorical variables (i.e. the variables that only take values among finite number of categories), otherwise the concept of probability of occurence of an event doesn not make sense. Ideally, a continuous variable can take infinite values, so how do you find the chances of occurence of a particular value?!\r\n",
        "\r\n",
        "These variables are - 'Departure Delay in Minutes','Arrival Delay in Minutes',and 'Flight Distance', 'Age'"
      ]
    },
    {
      "cell_type": "code",
      "metadata": {
        "id": "7z3j-QM8WUrF"
      },
      "source": [
        "import pandas as pd"
      ],
      "execution_count": 2,
      "outputs": []
    },
    {
      "cell_type": "code",
      "metadata": {
        "id": "Y6Ssw1QvDDV9",
        "colab": {
          "base_uri": "https://localhost:8080/"
        },
        "outputId": "64550369-971c-4ad9-f12a-23319db7e9fa"
      },
      "source": [
        "train=pd.read_csv('train.csv',index_col=0).drop(['id','Departure Delay in Minutes','Arrival Delay in Minutes','Flight Distance','Age'],axis=1) \r\n",
        "test=pd.read_csv('test.csv',index_col=0).drop(['id','Departure Delay in Minutes','Arrival Delay in Minutes','Flight Distance','Age'],axis=1)\r\n",
        "len(train),len(test)"
      ],
      "execution_count": 3,
      "outputs": [
        {
          "output_type": "execute_result",
          "data": {
            "text/plain": [
              "(103904, 25976)"
            ]
          },
          "metadata": {
            "tags": []
          },
          "execution_count": 3
        }
      ]
    },
    {
      "cell_type": "code",
      "metadata": {
        "id": "sZlG4v5aD4xd",
        "colab": {
          "base_uri": "https://localhost:8080/",
          "height": 348
        },
        "outputId": "b110ecb3-d650-4d37-f885-c2e7d3267116"
      },
      "source": [
        "train.head()"
      ],
      "execution_count": 4,
      "outputs": [
        {
          "output_type": "execute_result",
          "data": {
            "text/html": [
              "<div>\n",
              "<style scoped>\n",
              "    .dataframe tbody tr th:only-of-type {\n",
              "        vertical-align: middle;\n",
              "    }\n",
              "\n",
              "    .dataframe tbody tr th {\n",
              "        vertical-align: top;\n",
              "    }\n",
              "\n",
              "    .dataframe thead th {\n",
              "        text-align: right;\n",
              "    }\n",
              "</style>\n",
              "<table border=\"1\" class=\"dataframe\">\n",
              "  <thead>\n",
              "    <tr style=\"text-align: right;\">\n",
              "      <th></th>\n",
              "      <th>Gender</th>\n",
              "      <th>Customer Type</th>\n",
              "      <th>Type of Travel</th>\n",
              "      <th>Class</th>\n",
              "      <th>Inflight wifi service</th>\n",
              "      <th>Departure/Arrival time convenient</th>\n",
              "      <th>Ease of Online booking</th>\n",
              "      <th>Gate location</th>\n",
              "      <th>Food and drink</th>\n",
              "      <th>Online boarding</th>\n",
              "      <th>Seat comfort</th>\n",
              "      <th>Inflight entertainment</th>\n",
              "      <th>On-board service</th>\n",
              "      <th>Leg room service</th>\n",
              "      <th>Baggage handling</th>\n",
              "      <th>Checkin service</th>\n",
              "      <th>Inflight service</th>\n",
              "      <th>Cleanliness</th>\n",
              "      <th>satisfaction</th>\n",
              "    </tr>\n",
              "  </thead>\n",
              "  <tbody>\n",
              "    <tr>\n",
              "      <th>0</th>\n",
              "      <td>Male</td>\n",
              "      <td>Loyal Customer</td>\n",
              "      <td>Personal Travel</td>\n",
              "      <td>Eco Plus</td>\n",
              "      <td>3</td>\n",
              "      <td>4</td>\n",
              "      <td>3</td>\n",
              "      <td>1</td>\n",
              "      <td>5</td>\n",
              "      <td>3</td>\n",
              "      <td>5</td>\n",
              "      <td>5</td>\n",
              "      <td>4</td>\n",
              "      <td>3</td>\n",
              "      <td>4</td>\n",
              "      <td>4</td>\n",
              "      <td>5</td>\n",
              "      <td>5</td>\n",
              "      <td>neutral or dissatisfied</td>\n",
              "    </tr>\n",
              "    <tr>\n",
              "      <th>1</th>\n",
              "      <td>Male</td>\n",
              "      <td>disloyal Customer</td>\n",
              "      <td>Business travel</td>\n",
              "      <td>Business</td>\n",
              "      <td>3</td>\n",
              "      <td>2</td>\n",
              "      <td>3</td>\n",
              "      <td>3</td>\n",
              "      <td>1</td>\n",
              "      <td>3</td>\n",
              "      <td>1</td>\n",
              "      <td>1</td>\n",
              "      <td>1</td>\n",
              "      <td>5</td>\n",
              "      <td>3</td>\n",
              "      <td>1</td>\n",
              "      <td>4</td>\n",
              "      <td>1</td>\n",
              "      <td>neutral or dissatisfied</td>\n",
              "    </tr>\n",
              "    <tr>\n",
              "      <th>2</th>\n",
              "      <td>Female</td>\n",
              "      <td>Loyal Customer</td>\n",
              "      <td>Business travel</td>\n",
              "      <td>Business</td>\n",
              "      <td>2</td>\n",
              "      <td>2</td>\n",
              "      <td>2</td>\n",
              "      <td>2</td>\n",
              "      <td>5</td>\n",
              "      <td>5</td>\n",
              "      <td>5</td>\n",
              "      <td>5</td>\n",
              "      <td>4</td>\n",
              "      <td>3</td>\n",
              "      <td>4</td>\n",
              "      <td>4</td>\n",
              "      <td>4</td>\n",
              "      <td>5</td>\n",
              "      <td>satisfied</td>\n",
              "    </tr>\n",
              "    <tr>\n",
              "      <th>3</th>\n",
              "      <td>Female</td>\n",
              "      <td>Loyal Customer</td>\n",
              "      <td>Business travel</td>\n",
              "      <td>Business</td>\n",
              "      <td>2</td>\n",
              "      <td>5</td>\n",
              "      <td>5</td>\n",
              "      <td>5</td>\n",
              "      <td>2</td>\n",
              "      <td>2</td>\n",
              "      <td>2</td>\n",
              "      <td>2</td>\n",
              "      <td>2</td>\n",
              "      <td>5</td>\n",
              "      <td>3</td>\n",
              "      <td>1</td>\n",
              "      <td>4</td>\n",
              "      <td>2</td>\n",
              "      <td>neutral or dissatisfied</td>\n",
              "    </tr>\n",
              "    <tr>\n",
              "      <th>4</th>\n",
              "      <td>Male</td>\n",
              "      <td>Loyal Customer</td>\n",
              "      <td>Business travel</td>\n",
              "      <td>Business</td>\n",
              "      <td>3</td>\n",
              "      <td>3</td>\n",
              "      <td>3</td>\n",
              "      <td>3</td>\n",
              "      <td>4</td>\n",
              "      <td>5</td>\n",
              "      <td>5</td>\n",
              "      <td>3</td>\n",
              "      <td>3</td>\n",
              "      <td>4</td>\n",
              "      <td>4</td>\n",
              "      <td>3</td>\n",
              "      <td>3</td>\n",
              "      <td>3</td>\n",
              "      <td>satisfied</td>\n",
              "    </tr>\n",
              "  </tbody>\n",
              "</table>\n",
              "</div>"
            ],
            "text/plain": [
              "   Gender      Customer Type  ... Cleanliness             satisfaction\n",
              "0    Male     Loyal Customer  ...           5  neutral or dissatisfied\n",
              "1    Male  disloyal Customer  ...           1  neutral or dissatisfied\n",
              "2  Female     Loyal Customer  ...           5                satisfied\n",
              "3  Female     Loyal Customer  ...           2  neutral or dissatisfied\n",
              "4    Male     Loyal Customer  ...           3                satisfied\n",
              "\n",
              "[5 rows x 19 columns]"
            ]
          },
          "metadata": {
            "tags": []
          },
          "execution_count": 4
        }
      ]
    },
    {
      "cell_type": "markdown",
      "metadata": {
        "id": "4dS7EcwQO4oR"
      },
      "source": [
        "As you can see, each of the features (all columns except the target variable - 'satisfaction') have either one of finite number of values. For example, 'Gender' only takes one of two values - Male or Female. \r\n",
        "\r\n",
        "But, notice, many of these features have strings as their categories. We know, that computers cannot understand strings. So we need to convert them into numbers. We define a function that converts all values into numerical categories, ranging from 0 to num_categories-1 (num_categories categories in total). Lets call this funtion *categorify*!"
      ]
    },
    {
      "cell_type": "code",
      "metadata": {
        "id": "KIw-ZFlyFVvf",
        "colab": {
          "base_uri": "https://localhost:8080/"
        },
        "outputId": "cf0a75fa-23ca-416c-d718-9fa504a7ba20"
      },
      "source": [
        "def categorify(df):\r\n",
        "    df.dictionary={}\r\n",
        "    for col in df: \r\n",
        "        numerical_categories = {k:i for i,k in enumerate(sorted(df[col].unique()))}\r\n",
        "        df[col]=[numerical_categories[i] for i in df[col]]\r\n",
        "        df.dictionary[col]=numerical_categories\r\n",
        "\r\n",
        "categorify(train)\r\n",
        "categorify(test)"
      ],
      "execution_count": 5,
      "outputs": [
        {
          "output_type": "stream",
          "text": [
            "/usr/local/lib/python3.6/dist-packages/ipykernel_launcher.py:2: UserWarning: Pandas doesn't allow columns to be created via a new attribute name - see https://pandas.pydata.org/pandas-docs/stable/indexing.html#attribute-access\n",
            "  \n"
          ],
          "name": "stderr"
        }
      ]
    },
    {
      "cell_type": "markdown",
      "metadata": {
        "id": "ur8msSdIO0sn"
      },
      "source": [
        "So now, if you take a look at your dataframes, you'll see that all categories are now 0,1,2,...and so on. Even the target (satisfaction) column!"
      ]
    },
    {
      "cell_type": "code",
      "metadata": {
        "id": "MjLm4EKpRioB",
        "colab": {
          "base_uri": "https://localhost:8080/",
          "height": 261
        },
        "outputId": "141d7de8-1c65-46b2-89cf-574a0f3b02f3"
      },
      "source": [
        "train.head()"
      ],
      "execution_count": 6,
      "outputs": [
        {
          "output_type": "execute_result",
          "data": {
            "text/html": [
              "<div>\n",
              "<style scoped>\n",
              "    .dataframe tbody tr th:only-of-type {\n",
              "        vertical-align: middle;\n",
              "    }\n",
              "\n",
              "    .dataframe tbody tr th {\n",
              "        vertical-align: top;\n",
              "    }\n",
              "\n",
              "    .dataframe thead th {\n",
              "        text-align: right;\n",
              "    }\n",
              "</style>\n",
              "<table border=\"1\" class=\"dataframe\">\n",
              "  <thead>\n",
              "    <tr style=\"text-align: right;\">\n",
              "      <th></th>\n",
              "      <th>Gender</th>\n",
              "      <th>Customer Type</th>\n",
              "      <th>Type of Travel</th>\n",
              "      <th>Class</th>\n",
              "      <th>Inflight wifi service</th>\n",
              "      <th>Departure/Arrival time convenient</th>\n",
              "      <th>Ease of Online booking</th>\n",
              "      <th>Gate location</th>\n",
              "      <th>Food and drink</th>\n",
              "      <th>Online boarding</th>\n",
              "      <th>Seat comfort</th>\n",
              "      <th>Inflight entertainment</th>\n",
              "      <th>On-board service</th>\n",
              "      <th>Leg room service</th>\n",
              "      <th>Baggage handling</th>\n",
              "      <th>Checkin service</th>\n",
              "      <th>Inflight service</th>\n",
              "      <th>Cleanliness</th>\n",
              "      <th>satisfaction</th>\n",
              "    </tr>\n",
              "  </thead>\n",
              "  <tbody>\n",
              "    <tr>\n",
              "      <th>0</th>\n",
              "      <td>1</td>\n",
              "      <td>0</td>\n",
              "      <td>1</td>\n",
              "      <td>2</td>\n",
              "      <td>3</td>\n",
              "      <td>4</td>\n",
              "      <td>3</td>\n",
              "      <td>1</td>\n",
              "      <td>5</td>\n",
              "      <td>3</td>\n",
              "      <td>5</td>\n",
              "      <td>5</td>\n",
              "      <td>4</td>\n",
              "      <td>3</td>\n",
              "      <td>3</td>\n",
              "      <td>4</td>\n",
              "      <td>5</td>\n",
              "      <td>5</td>\n",
              "      <td>0</td>\n",
              "    </tr>\n",
              "    <tr>\n",
              "      <th>1</th>\n",
              "      <td>1</td>\n",
              "      <td>1</td>\n",
              "      <td>0</td>\n",
              "      <td>0</td>\n",
              "      <td>3</td>\n",
              "      <td>2</td>\n",
              "      <td>3</td>\n",
              "      <td>3</td>\n",
              "      <td>1</td>\n",
              "      <td>3</td>\n",
              "      <td>1</td>\n",
              "      <td>1</td>\n",
              "      <td>1</td>\n",
              "      <td>5</td>\n",
              "      <td>2</td>\n",
              "      <td>1</td>\n",
              "      <td>4</td>\n",
              "      <td>1</td>\n",
              "      <td>0</td>\n",
              "    </tr>\n",
              "    <tr>\n",
              "      <th>2</th>\n",
              "      <td>0</td>\n",
              "      <td>0</td>\n",
              "      <td>0</td>\n",
              "      <td>0</td>\n",
              "      <td>2</td>\n",
              "      <td>2</td>\n",
              "      <td>2</td>\n",
              "      <td>2</td>\n",
              "      <td>5</td>\n",
              "      <td>5</td>\n",
              "      <td>5</td>\n",
              "      <td>5</td>\n",
              "      <td>4</td>\n",
              "      <td>3</td>\n",
              "      <td>3</td>\n",
              "      <td>4</td>\n",
              "      <td>4</td>\n",
              "      <td>5</td>\n",
              "      <td>1</td>\n",
              "    </tr>\n",
              "    <tr>\n",
              "      <th>3</th>\n",
              "      <td>0</td>\n",
              "      <td>0</td>\n",
              "      <td>0</td>\n",
              "      <td>0</td>\n",
              "      <td>2</td>\n",
              "      <td>5</td>\n",
              "      <td>5</td>\n",
              "      <td>5</td>\n",
              "      <td>2</td>\n",
              "      <td>2</td>\n",
              "      <td>2</td>\n",
              "      <td>2</td>\n",
              "      <td>2</td>\n",
              "      <td>5</td>\n",
              "      <td>2</td>\n",
              "      <td>1</td>\n",
              "      <td>4</td>\n",
              "      <td>2</td>\n",
              "      <td>0</td>\n",
              "    </tr>\n",
              "    <tr>\n",
              "      <th>4</th>\n",
              "      <td>1</td>\n",
              "      <td>0</td>\n",
              "      <td>0</td>\n",
              "      <td>0</td>\n",
              "      <td>3</td>\n",
              "      <td>3</td>\n",
              "      <td>3</td>\n",
              "      <td>3</td>\n",
              "      <td>4</td>\n",
              "      <td>5</td>\n",
              "      <td>5</td>\n",
              "      <td>3</td>\n",
              "      <td>3</td>\n",
              "      <td>4</td>\n",
              "      <td>3</td>\n",
              "      <td>3</td>\n",
              "      <td>3</td>\n",
              "      <td>3</td>\n",
              "      <td>1</td>\n",
              "    </tr>\n",
              "  </tbody>\n",
              "</table>\n",
              "</div>"
            ],
            "text/plain": [
              "   Gender  Customer Type  ...  Cleanliness  satisfaction\n",
              "0       1              0  ...            5             0\n",
              "1       1              1  ...            1             0\n",
              "2       0              0  ...            5             1\n",
              "3       0              0  ...            2             0\n",
              "4       1              0  ...            3             1\n",
              "\n",
              "[5 rows x 19 columns]"
            ]
          },
          "metadata": {
            "tags": []
          },
          "execution_count": 6
        }
      ]
    },
    {
      "cell_type": "markdown",
      "metadata": {
        "id": "C5O-8E3hSryC"
      },
      "source": [
        "For convenience, we've also added a method in the dataframe, called *dictionary*, which will help us identify which category refers to which original category!"
      ]
    },
    {
      "cell_type": "code",
      "metadata": {
        "id": "nbCWU9lcH9Zo",
        "colab": {
          "base_uri": "https://localhost:8080/"
        },
        "outputId": "1c20bafc-0d43-42d5-ae91-99d6e31c257e"
      },
      "source": [
        "train.dictionary"
      ],
      "execution_count": 7,
      "outputs": [
        {
          "output_type": "execute_result",
          "data": {
            "text/plain": [
              "{'Baggage handling': {1: 0, 2: 1, 3: 2, 4: 3, 5: 4},\n",
              " 'Checkin service': {0: 0, 1: 1, 2: 2, 3: 3, 4: 4, 5: 5},\n",
              " 'Class': {'Business': 0, 'Eco': 1, 'Eco Plus': 2},\n",
              " 'Cleanliness': {0: 0, 1: 1, 2: 2, 3: 3, 4: 4, 5: 5},\n",
              " 'Customer Type': {'Loyal Customer': 0, 'disloyal Customer': 1},\n",
              " 'Departure/Arrival time convenient': {0: 0, 1: 1, 2: 2, 3: 3, 4: 4, 5: 5},\n",
              " 'Ease of Online booking': {0: 0, 1: 1, 2: 2, 3: 3, 4: 4, 5: 5},\n",
              " 'Food and drink': {0: 0, 1: 1, 2: 2, 3: 3, 4: 4, 5: 5},\n",
              " 'Gate location': {0: 0, 1: 1, 2: 2, 3: 3, 4: 4, 5: 5},\n",
              " 'Gender': {'Female': 0, 'Male': 1},\n",
              " 'Inflight entertainment': {0: 0, 1: 1, 2: 2, 3: 3, 4: 4, 5: 5},\n",
              " 'Inflight service': {0: 0, 1: 1, 2: 2, 3: 3, 4: 4, 5: 5},\n",
              " 'Inflight wifi service': {0: 0, 1: 1, 2: 2, 3: 3, 4: 4, 5: 5},\n",
              " 'Leg room service': {0: 0, 1: 1, 2: 2, 3: 3, 4: 4, 5: 5},\n",
              " 'On-board service': {0: 0, 1: 1, 2: 2, 3: 3, 4: 4, 5: 5},\n",
              " 'Online boarding': {0: 0, 1: 1, 2: 2, 3: 3, 4: 4, 5: 5},\n",
              " 'Seat comfort': {0: 0, 1: 1, 2: 2, 3: 3, 4: 4, 5: 5},\n",
              " 'Type of Travel': {'Business travel': 0, 'Personal Travel': 1},\n",
              " 'satisfaction': {'neutral or dissatisfied': 0, 'satisfied': 1}}"
            ]
          },
          "metadata": {
            "tags": []
          },
          "execution_count": 7
        }
      ]
    },
    {
      "cell_type": "markdown",
      "metadata": {
        "id": "3BMSRkRLTHYj"
      },
      "source": [
        "This is a dictionary, a python object which indexes all values in the form of `{key: value}`. If you type in `dictionary[key]`, you will get the value. So its a great method to store and retreive information. Its just like a real word dictionary. You look up information through a key, which is the word itself. So you want to know the meaning of a word, you don't search for the meaning itself, but the word. And besides the word, we find the definition too! "
      ]
    },
    {
      "cell_type": "markdown",
      "metadata": {
        "id": "K5vuVAn8T2uu"
      },
      "source": [
        "So now that we are set up with our data, let us build the probabilities. We need to find 3 different probabilities - $P(pred)$,$ P(data)$ and $P(data|pred).$ Using these, we will find $P(pred|data)$. If you're unclear with the meanings of these terms, *Please* go back up and read it through again.\r\n",
        "\r\n",
        "Let us start with building $P(pred)$. Meaning, what is the probability of getting a particular prediction (0 or 1, which correspond to the satisfaction of the passenger) (Go take a look at the 'satisfaction' key in the dataframe's dictionary, which we printed just above this cell). \r\n",
        "\r\n",
        "This probability can be simply found by counting the fraction of the number of times in the whole dataset, that the prediction was 1 or 0."
      ]
    },
    {
      "cell_type": "code",
      "metadata": {
        "id": "57NgnoL-bLcQ"
      },
      "source": [
        "def get_ppred(df,tgt='satisfaction'):\r\n",
        "    f\"get P(pred) as a dictionary, where tgt is the target variable and does not count as a feature.\" #this is a comment for the user\r\n",
        "    p_pred=df[tgt].value_counts().to_dict()\r\n",
        "    for p in p_pred: p_pred[p]/=len(df) # convert the frequencies into a ratio of occurence\r\n",
        "    return p_pred"
      ],
      "execution_count": 8,
      "outputs": []
    },
    {
      "cell_type": "code",
      "metadata": {
        "id": "jKp591x0bLP8",
        "colab": {
          "base_uri": "https://localhost:8080/"
        },
        "outputId": "8dd79634-72c2-4d39-db25-4a36fe142163"
      },
      "source": [
        "p_pred = get_ppred(train,'satisfaction')\r\n",
        "p_pred"
      ],
      "execution_count": 9,
      "outputs": [
        {
          "output_type": "execute_result",
          "data": {
            "text/plain": [
              "{0: 0.5666673082845703, 1: 0.43333269171542965}"
            ]
          },
          "metadata": {
            "tags": []
          },
          "execution_count": 9
        }
      ]
    },
    {
      "cell_type": "markdown",
      "metadata": {
        "id": "wRKiwgIgWGj0"
      },
      "source": [
        "We see, that `p_pred` (which stands for $P(pred)$), is a dictionary, which tells us the probabilities of occurences of all possible predictions (that is, 0 or 1). \r\n",
        "\r\n",
        "Next, let us calculate $P(data)$. This is a tricky one. Our data is made up of multiple features, like Gender, Class, Seat Comfort, etc. As we mentioned above, we simply need to calculate the probability of occurence of all these features separately. In the end, we multiply the probabilities of all features. So for now, let us calculate the individual probabilities of all features (except ofcourse, the target class Satisfaction) \r\n"
      ]
    },
    {
      "cell_type": "code",
      "metadata": {
        "id": "CZsWjon9D4ry"
      },
      "source": [
        "def get_pdata(df,tgt='satisfaction'): return {k:get_ppred(df,tgt=k) for k in df.keys().drop(tgt)}"
      ],
      "execution_count": 10,
      "outputs": []
    },
    {
      "cell_type": "code",
      "metadata": {
        "id": "SWxjCaeYD4oo",
        "colab": {
          "base_uri": "https://localhost:8080/"
        },
        "outputId": "99e6b06b-7753-44bf-a059-58363182d4f5"
      },
      "source": [
        "p_data=get_pdata(train)\r\n",
        "p_data"
      ],
      "execution_count": 11,
      "outputs": [
        {
          "output_type": "execute_result",
          "data": {
            "text/plain": [
              "{'Baggage handling': {0: 0.06965083153680321,\n",
              "  1: 0.1108811980289498,\n",
              "  2: 0.19856790883892825,\n",
              "  3: 0.3597840314136126,\n",
              "  4: 0.2611160301817062},\n",
              " 'Checkin service': {0: 9.624268555589775e-06,\n",
              "  1: 0.1240568216815522,\n",
              "  2: 0.12408569448721897,\n",
              "  3: 0.27377194333230676,\n",
              "  4: 0.2796331228826609,\n",
              "  5: 0.19844279334770556},\n",
              " 'Class': {0: 0.4779892978133662,\n",
              "  1: 0.449886433631044,\n",
              "  2: 0.07212426855558977},\n",
              " 'Cleanliness': {0: 0.0001154912226670773,\n",
              "  1: 0.12817600862334463,\n",
              "  2: 0.15525870033877426,\n",
              "  3: 0.23650677548506313,\n",
              "  4: 0.2615779950723745,\n",
              "  5: 0.2183650292577764},\n",
              " 'Customer Type': {0: 0.8173217585463505, 1: 0.18267824145364953},\n",
              " 'Departure/Arrival time convenient': {0: 0.05100862334462581,\n",
              "  1: 0.14915691407453033,\n",
              "  2: 0.16545080073914384,\n",
              "  3: 0.1729096088697259,\n",
              "  4: 0.2458615645210964,\n",
              "  5: 0.21561248845087774},\n",
              " 'Ease of Online booking': {0: 0.04318409300893132,\n",
              "  1: 0.16866530643671082,\n",
              "  2: 0.23118455497382198,\n",
              "  3: 0.2353037419156144,\n",
              "  4: 0.18835655990144748,\n",
              "  5: 0.13330574376347398},\n",
              " 'Food and drink': {0: 0.001029796735448106,\n",
              "  1: 0.12354673544810595,\n",
              "  2: 0.21161841700030798,\n",
              "  3: 0.21462118878965197,\n",
              "  4: 0.23443755774561134,\n",
              "  5: 0.21474630428087466},\n",
              " 'Gate location': {0: 9.624268555589775e-06,\n",
              "  1: 0.16902140437326763,\n",
              "  2: 0.18727864182322143,\n",
              "  3: 0.275032722513089,\n",
              "  4: 0.23508238373883586,\n",
              "  5: 0.13357522328303048},\n",
              " 'Gender': {0: 0.5074588081305821, 1: 0.4925411918694179},\n",
              " 'Inflight entertainment': {0: 0.00013473975977825684,\n",
              "  1: 0.12009162303664922,\n",
              "  2: 0.16974322451493687,\n",
              "  3: 0.1841988758854327,\n",
              "  4: 0.28317485371111795,\n",
              "  5: 0.242656683092085},\n",
              " 'Inflight service': {0: 2.8872805666769326e-05,\n",
              "  1: 0.06817831844779797,\n",
              "  2: 0.11026524484139205,\n",
              "  3: 0.19536302740991685,\n",
              "  4: 0.365192870341854,\n",
              "  5: 0.26097166615337236},\n",
              " 'Inflight wifi service': {0: 0.029864105327995074,\n",
              "  1: 0.17169695103172158,\n",
              "  2: 0.2485948567908839,\n",
              "  3: 0.2489605789959963,\n",
              "  4: 0.19050277178934402,\n",
              "  5: 0.11038073606405913},\n",
              " 'Leg room service': {0: 0.004542654758238374,\n",
              "  1: 0.09964005235602094,\n",
              "  2: 0.18791384354789037,\n",
              "  3: 0.1934285494302433,\n",
              "  4: 0.27707306744687404,\n",
              "  5: 0.237401832460733},\n",
              " 'On-board service': {0: 2.8872805666769326e-05,\n",
              "  1: 0.11425931629196182,\n",
              "  2: 0.14129388666461348,\n",
              "  3: 0.21975092392978135,\n",
              "  4: 0.2970722975053896,\n",
              "  5: 0.227594702802587},\n",
              " 'Online boarding': {0: 0.023367724052971973,\n",
              "  1: 0.10290267939636588,\n",
              "  2: 0.16847282106559902,\n",
              "  3: 0.20984755158607946,\n",
              "  4: 0.29606174930705265,\n",
              "  5: 0.199347474591931},\n",
              " 'Seat comfort': {0: 9.624268555589775e-06,\n",
              "  1: 0.11621304280874653,\n",
              "  2: 0.14337272867262088,\n",
              "  3: 0.17993532491530645,\n",
              "  4: 0.3057148906683092,\n",
              "  5: 0.25475438866646133},\n",
              " 'Type of Travel': {0: 0.6896269633507853, 1: 0.3103730366492147}}"
            ]
          },
          "metadata": {
            "tags": []
          },
          "execution_count": 11
        }
      ]
    },
    {
      "cell_type": "markdown",
      "metadata": {
        "id": "d35h6WwDcqX_"
      },
      "source": [
        "This is again a dictionary, with individual features as the keys in the dictionary. The value of each key is again a probability, which contains the probability of occurence of each value that the feature can take. For example, the 'Customer Type' feature takes 2 values (0 and 1) and so we have calculated the probability of occurence of each of these values. How? by simply calculating the fraction of times these two features occur in the whole training dataset"
      ]
    },
    {
      "cell_type": "code",
      "metadata": {
        "id": "WmCdFwIvsU2_",
        "colab": {
          "base_uri": "https://localhost:8080/"
        },
        "outputId": "053166d4-33ef-4ed1-ddb5-e3c9c240e931"
      },
      "source": [
        "p_data['Customer Type']"
      ],
      "execution_count": 12,
      "outputs": [
        {
          "output_type": "execute_result",
          "data": {
            "text/plain": [
              "{0: 0.8173217585463505, 1: 0.18267824145364953}"
            ]
          },
          "metadata": {
            "tags": []
          },
          "execution_count": 12
        }
      ]
    },
    {
      "cell_type": "markdown",
      "metadata": {
        "id": "u9ohkd3beeLd"
      },
      "source": [
        "In fact, you can ensure that the sum of all these probabilities for any feature is always 1."
      ]
    },
    {
      "cell_type": "code",
      "metadata": {
        "id": "X547SDjCtEXP",
        "colab": {
          "base_uri": "https://localhost:8080/"
        },
        "outputId": "57d2612d-db2d-431b-a99c-ecb5c3de0e89"
      },
      "source": [
        "sum(p_data['Customer Type'].values())"
      ],
      "execution_count": 13,
      "outputs": [
        {
          "output_type": "execute_result",
          "data": {
            "text/plain": [
              "1.0"
            ]
          },
          "metadata": {
            "tags": []
          },
          "execution_count": 13
        }
      ]
    },
    {
      "cell_type": "markdown",
      "metadata": {
        "id": "TAVzTVHdAGwc"
      },
      "source": [
        "Let us run a small snippet of code to ensure the sum of probabilities of all features is equal to 1. In the code snippet below, we ensure that the difference between 1 and the sum of all probabilities is almost negligible (it might not be 0, because the individual probabilities may have lower precision. For example, a 0.33333333333333333 + 0.66666666666666666 is in all practical sense, equal to 1. But according to the computer, not equal to 1, but a 0.99999999999999999 ."
      ]
    },
    {
      "cell_type": "code",
      "metadata": {
        "id": "n2ijEqof1fXt"
      },
      "source": [
        "for key in p_data: \r\n",
        "    assert abs(sum(p_data[key].values())-1)<1e-6, f\"probabilities of the key: {key} does not sum up to 1\""
      ],
      "execution_count": 14,
      "outputs": []
    },
    {
      "cell_type": "markdown",
      "metadata": {
        "id": "ly-2NJJzA63A"
      },
      "source": [
        "Now let us define P(data|pred). This is final component of our model. This can be thought of sub-cases of P(data) itself. Basically, it means - what is the probability of the occurence of a data, given pred assumes a certain value?! So, if you look at P(data), it is the collection of the probabilities of occurence of different features for all the datapoints. \r\n",
        "\r\n",
        "Now if we calculate the occurences of a feature only for a particular target(pred) value, we get P(data|pred)\r\n",
        "\r\n",
        "Obviously, if you add up the P(data|pred) for all possible prediction values, it will result in the corresponding P(data) itself. We define `get_pdata_given_pred`, which calculates this for us."
      ]
    },
    {
      "cell_type": "code",
      "metadata": {
        "id": "qENxk49JtLAt"
      },
      "source": [
        "def get_pdata_given_pred(df,tgt='satisfaction'): return {k:calc_pdata_given_pred(df,tgt,key=k) for k in df[tgt].unique()}\r\n",
        "\r\n",
        "def calc_pdata_given_pred(df,tgt,key):\r\n",
        "    ret={f:None for f in df if f!=tgt}\r\n",
        "    l=len(df)\r\n",
        "    df=df[df[tgt]==key]\r\n",
        "    for f in ret:\r\n",
        "        conditional_probs=df[f].value_counts().to_dict()\r\n",
        "        for o in conditional_probs: conditional_probs[o]/=l\r\n",
        "        ret[f]=conditional_probs\r\n",
        "    return ret"
      ],
      "execution_count": 15,
      "outputs": []
    },
    {
      "cell_type": "code",
      "metadata": {
        "id": "C5ZxCwv4vxRI",
        "colab": {
          "base_uri": "https://localhost:8080/"
        },
        "outputId": "4893f9b6-3b54-46f1-99b4-d174cbac1843"
      },
      "source": [
        "p_data_given_pred = get_pdata_given_pred(train)\r\n",
        "p_data_given_pred"
      ],
      "execution_count": 16,
      "outputs": [
        {
          "output_type": "execute_result",
          "data": {
            "text/plain": [
              "{0: {'Baggage handling': {0: 0.048920157068062825,\n",
              "   1: 0.07812018786572221,\n",
              "   2: 0.1517362180474284,\n",
              "   3: 0.1867589313212196,\n",
              "   4: 0.10113181398213736},\n",
              "  'Checkin service': {0: 9.624268555589775e-06,\n",
              "   1: 0.09437557745611333,\n",
              "   2: 0.09277794887588543,\n",
              "   3: 0.15104327071142593,\n",
              "   4: 0.15102402217431476,\n",
              "   5: 0.07743686479827533},\n",
              "  'Class': {0: 0.14614451801663073,\n",
              "   1: 0.3661456729288574,\n",
              "   2: 0.05437711733908223},\n",
              "  'Cleanliness': {0: 0.0001154912226670773,\n",
              "   1: 0.10302779488758855,\n",
              "   2: 0.12218971358176779,\n",
              "   3: 0.13436441330458884,\n",
              "   4: 0.12154488758854327,\n",
              "   5: 0.08542500769941484},\n",
              "  'Customer Type': {0: 0.42722128118263014, 1: 0.13944602710194026},\n",
              "  'Departure/Arrival time convenient': {0: 0.026755466584539575,\n",
              "   1: 0.07658030489682784,\n",
              "   2: 0.09175777640899292,\n",
              "   3: 0.0971377425315676,\n",
              "   4: 0.1505235602094241,\n",
              "   5: 0.12391245765321836},\n",
              "  'Ease of Online booking': {0: 0.01450377271327379,\n",
              "   1: 0.1052413766553742,\n",
              "   2: 0.16091777024946105,\n",
              "   3: 0.16276562981213427,\n",
              "   4: 0.08835078534031414,\n",
              "   5: 0.03488797351401293},\n",
              "  'Food and drink': {0: 0.0005485833076686172,\n",
              "   1: 0.0988316137973514,\n",
              "   2: 0.1295234062211272,\n",
              "   3: 0.12955227902679398,\n",
              "   4: 0.11136241145672929,\n",
              "   5: 0.09684901447489991},\n",
              "  'Gate location': {1: 0.08526139513396983,\n",
              "   2: 0.1009970742223591,\n",
              "   3: 0.17954072990452727,\n",
              "   4: 0.14374807514628887,\n",
              "   5: 0.057120033877425314},\n",
              "  'Gender': {0: 0.2905855404989221, 1: 0.2760817677856483},\n",
              "  'Inflight entertainment': {0: 0.00013473975977825684,\n",
              "   1: 0.10329727440714506,\n",
              "   2: 0.13353672620880813,\n",
              "   3: 0.13445103172158915,\n",
              "   4: 0.109938019710502,\n",
              "   5: 0.08530951647674777},\n",
              "  'Inflight service': {0: 2.8872805666769326e-05,\n",
              "   1: 0.04841007083461657,\n",
              "   2: 0.07705189405605174,\n",
              "   3: 0.14867570064675084,\n",
              "   4: 0.19071450569756698,\n",
              "   5: 0.10178626424391746},\n",
              "  'Inflight wifi service': {0: 7.69941484447182e-05,\n",
              "   1: 0.11581844779796735,\n",
              "   2: 0.18677817985833076,\n",
              "   3: 0.18657607021866338,\n",
              "   4: 0.07639744379427163,\n",
              "   5: 0.0010201724668925161},\n",
              "  'Leg room service': {0: 0.0029450261780104713,\n",
              "   1: 0.07942908838928242,\n",
              "   2: 0.1362988912842624,\n",
              "   3: 0.14073567908838927,\n",
              "   4: 0.11573182938096704,\n",
              "   5: 0.09152679396365876},\n",
              "  'On-board service': {0: 2.8872805666769326e-05,\n",
              "   1: 0.09212349861410533,\n",
              "   2: 0.10516438250692947,\n",
              "   3: 0.15037919618109025,\n",
              "   4: 0.13758854327071143,\n",
              "   5: 0.08138281490606714},\n",
              "  'Online boarding': {0: 0.010365337234370189,\n",
              "   1: 0.08872613181398213,\n",
              "   2: 0.14904142285186325,\n",
              "   3: 0.1813693409300893,\n",
              "   4: 0.11160301817061903,\n",
              "   5: 0.025562057283646442},\n",
              "  'Seat comfort': {0: 9.624268555589775e-06,\n",
              "   1: 0.09027563905143209,\n",
              "   2: 0.11123729596550662,\n",
              "   3: 0.14187134277794888,\n",
              "   4: 0.13416230366492146,\n",
              "   5: 0.08911110255620573},\n",
              "  'Type of Travel': {0: 0.2878522482291346, 1: 0.27881506005543577}},\n",
              " 1: {'Baggage handling': {0: 0.020730674468740377,\n",
              "   1: 0.03276101016322759,\n",
              "   2: 0.04683169079149985,\n",
              "   3: 0.17302510009239297,\n",
              "   4: 0.15998421619956885},\n",
              "  'Checkin service': {1: 0.029681244225438868,\n",
              "   2: 0.03130774561133354,\n",
              "   3: 0.12272867262088082,\n",
              "   4: 0.12860910070834616,\n",
              "   5: 0.12100592854943025},\n",
              "  'Class': {0: 0.33184477979673543,\n",
              "   1: 0.08374076070218664,\n",
              "   2: 0.017747151216507544},\n",
              "  'Cleanliness': {1: 0.025148213735756084,\n",
              "   2: 0.033068986757006466,\n",
              "   3: 0.10214236218047429,\n",
              "   4: 0.14003310748383122,\n",
              "   5: 0.13294002155836157},\n",
              "  'Customer Type': {0: 0.39010047736372033, 1: 0.04323221435170927},\n",
              "  'Departure/Arrival time convenient': {0: 0.024253156760086235,\n",
              "   1: 0.07257660917770249,\n",
              "   2: 0.0736930243301509,\n",
              "   3: 0.0757718663381583,\n",
              "   4: 0.09533800431167232,\n",
              "   5: 0.09170003079765938},\n",
              "  'Ease of Online booking': {0: 0.02868032029565753,\n",
              "   1: 0.06342392978133662,\n",
              "   2: 0.07026678472436095,\n",
              "   3: 0.07253811210348013,\n",
              "   4: 0.10000577456113335,\n",
              "   5: 0.09841777024946104},\n",
              "  'Food and drink': {0: 0.0004812134277794888,\n",
              "   1: 0.024715121650754544,\n",
              "   2: 0.08209501077918079,\n",
              "   3: 0.08506890976285802,\n",
              "   4: 0.12307514628888204,\n",
              "   5: 0.11789728980597475},\n",
              "  'Gate location': {0: 9.624268555589775e-06,\n",
              "   1: 0.08376000923929781,\n",
              "   2: 0.08628156760086234,\n",
              "   3: 0.09549199260856175,\n",
              "   4: 0.09133430859254697,\n",
              "   5: 0.07645518940560517},\n",
              "  'Gender': {0: 0.21687326763165998, 1: 0.21645942408376964},\n",
              "  'Inflight entertainment': {1: 0.016794348629504158,\n",
              "   2: 0.03620649830612874,\n",
              "   3: 0.04974784416384355,\n",
              "   4: 0.17323683400061596,\n",
              "   5: 0.15734716661533724},\n",
              "  'Inflight service': {1: 0.019768247613181397,\n",
              "   2: 0.033213350785340316,\n",
              "   3: 0.046687326763166,\n",
              "   4: 0.17447836464428704,\n",
              "   5: 0.15918540190945488},\n",
              "  'Inflight wifi service': {0: 0.029787111179550355,\n",
              "   1: 0.055878503233754234,\n",
              "   2: 0.061816676932553126,\n",
              "   3: 0.062384508777332925,\n",
              "   4: 0.11410532799507238,\n",
              "   5: 0.10936056359716662},\n",
              "  'Leg room service': {0: 0.0015976285802279026,\n",
              "   1: 0.020210963966738528,\n",
              "   2: 0.051614952263627965,\n",
              "   3: 0.05269287034185402,\n",
              "   4: 0.161341238065907,\n",
              "   5: 0.14587503849707423},\n",
              "  'On-board service': {1: 0.02213581767785648,\n",
              "   2: 0.03612950415768402,\n",
              "   3: 0.0693717277486911,\n",
              "   4: 0.15948375423467817,\n",
              "   5: 0.14621188789651987},\n",
              "  'Online boarding': {0: 0.013002386818601787,\n",
              "   1: 0.01417654758238374,\n",
              "   2: 0.019431398213735757,\n",
              "   3: 0.028478210655990144,\n",
              "   4: 0.18445873113643363,\n",
              "   5: 0.17378541730828456},\n",
              "  'Seat comfort': {1: 0.025937403757314445,\n",
              "   2: 0.03213543270711426,\n",
              "   3: 0.03806398213735756,\n",
              "   4: 0.17155258700338774,\n",
              "   5: 0.1656432861102556},\n",
              "  'Type of Travel': {0: 0.40177471512165075, 1: 0.031557976593778875}}}"
            ]
          },
          "metadata": {
            "tags": []
          },
          "execution_count": 16
        }
      ]
    },
    {
      "cell_type": "markdown",
      "metadata": {
        "id": "OxAoOIiqns6k"
      },
      "source": [
        "`p_data_given_pred` is simply a dictionary with keys as the different possible predictions (0 and 1), each of whose values are a dictionary containing the corresponding P(data) dictionaries (dictionary containing information about the probability of occurence of each individual feature value)\r\n",
        "\r\n",
        "Let us also verify that the for each feature, the sum of $P(data|pred)$ for each individual prediction is equal to the overall $P(data)$"
      ]
    },
    {
      "cell_type": "code",
      "metadata": {
        "id": "5i7z0-GCv_yO"
      },
      "source": [
        "for feature in train.keys().drop('satisfaction'): \r\n",
        "    assert p_data_given_pred[1][feature].get(0,0) + p_data_given_pred[0][feature].get(0,0) == p_data[feature].get(0)"
      ],
      "execution_count": 17,
      "outputs": []
    },
    {
      "cell_type": "markdown",
      "metadata": {
        "id": "f4AK6eyfpjM4"
      },
      "source": [
        "#### Lessons in Python: The `get` method.\r\n",
        "\r\n",
        "We've seen how we can access a particular item of a list of a dictionary, using square brackets. Internally, this is possible by defining a `def __get__` (pronounced dunder get) method in the respective class definition (of the list, dictionary, etc.). In addition to `__get__`, dictionaries also have a `def get` method defined, which can take a key, and returns the associated value. Additionally, if a particular key is not found, then you can decide what default value is returned. By default, it is `None`. So the syntax is as follows:\r\n",
        "\r\n",
        "`dict.get(key,default=None)`\r\n",
        "\r\n",
        "Here, we've write the code to get the value of the `0` key, and if the 0 key does not exist (which is the case when the associated probability is 0), we choose to return a default value of 0 itself."
      ]
    },
    {
      "cell_type": "markdown",
      "metadata": {
        "id": "ywdPmktNuZul"
      },
      "source": [
        "Finally, let us now define a function that can caluculate the final predictions. "
      ]
    },
    {
      "cell_type": "code",
      "metadata": {
        "id": "FRFHD_ZcBvMV"
      },
      "source": [
        "def get_prediction_accuracy(df,tgt,p_data,p_pred,p_data_given_pred):\r\n",
        "    probability_of_being_1=[]\r\n",
        "    probability_of_being_0=[]\r\n",
        "    features=df.keys().drop(tgt)\r\n",
        "    for _,row in df.iterrows(): \r\n",
        "        probability_of_being_1.append(calculate_prob(row,features,p_data,p_pred,p_data_given_pred,tgt=1))\r\n",
        "        probability_of_being_0.append(calculate_prob(row,features,p_data,p_pred,p_data_given_pred,tgt=0))\r\n",
        "    \r\n",
        "    pred=[p_one>=p_zero for p_one,p_zero in zip(probability_of_being_1,probability_of_being_0)]\r\n",
        "    return (pred==df[tgt]).mean()\r\n",
        "\r\n",
        "def calculate_prob(row: pd.Series,features,p_data,p_pred,p_data_given_pred,tgt=1):\r\n",
        "    p_pred_tgt = p_pred[tgt] #p_pred for target=1\r\n",
        "    p_data_1=1. #initializing value\r\n",
        "    p_data_given_pred_1 =1. #initialize\r\n",
        "\r\n",
        "    for f in features:\r\n",
        "        p_data_1*=p_data[f][row[f]]\r\n",
        "        p_data_given_pred_1*=p_data_given_pred[tgt][f].get(row[f],0)\r\n",
        "\r\n",
        "    return p_pred_tgt*p_data_given_pred_1/p_data_1"
      ],
      "execution_count": 18,
      "outputs": []
    },
    {
      "cell_type": "markdown",
      "metadata": {
        "id": "DWBAnVBQxvqJ"
      },
      "source": [
        "Let us check the prediction accuracy on the training and testing dataset"
      ]
    },
    {
      "cell_type": "code",
      "metadata": {
        "id": "JPh6g0HnTfhd",
        "colab": {
          "base_uri": "https://localhost:8080/"
        },
        "outputId": "6257b0d5-659f-48e4-9c78-9b175a370395"
      },
      "source": [
        "get_prediction_accuracy(train,'satisfaction',p_data,p_pred,p_data_given_pred)"
      ],
      "execution_count": 19,
      "outputs": [
        {
          "output_type": "execute_result",
          "data": {
            "text/plain": [
              "0.8257141207268247"
            ]
          },
          "metadata": {
            "tags": []
          },
          "execution_count": 19
        }
      ]
    },
    {
      "cell_type": "code",
      "metadata": {
        "id": "voR-0TneBvEF",
        "colab": {
          "base_uri": "https://localhost:8080/"
        },
        "outputId": "694540b4-ab3b-4c21-adf3-d6b27fd4745b"
      },
      "source": [
        "get_prediction_accuracy(test,'satisfaction',p_data,p_pred,p_data_given_pred)\r\n",
        "#note that p_data,p_pred and p_data_given_pred are probabilities corresponding to the training dataset, not the testing dataset. \r\n",
        "#THis is because we build our model using the training dataset only. Testing dataset is not used for finding parameters."
      ],
      "execution_count": 20,
      "outputs": [
        {
          "output_type": "execute_result",
          "data": {
            "text/plain": [
              "0.7264782876501386"
            ]
          },
          "metadata": {
            "tags": []
          },
          "execution_count": 20
        }
      ]
    },
    {
      "cell_type": "markdown",
      "metadata": {
        "id": "4_s4djXrpAXv"
      },
      "source": [
        "So there you have it. You have built a Naive Bayes Classifier from scratch. Obviously, we don't use this classifier independently in real word applications anymore, because there exist much more sophisticated models, but it is an important concept, that somehow made way for more advanced techniques. And even today, you can find a lot of research combining modern AI techniques with traditional probabilistic techniques.\r\n",
        "\r\n",
        "\r\n",
        "This is a good time to understand why this classifier does not perform exceptionally well. Or, to put it in better words, why modern techniques can easily outperform such a probabilistic model.\r\n",
        "\r\n",
        "Modern models can understand relations between different features, which can be helpful to understand which features are more meaningful and important than others. Understanding relations can also help derive much complex information from the data, the lack of which causes the Bayesian model to be very superficial, since every feature is considered independently, and no analysis is done over the feature. The frequency of occurence is the sole factor that drives the predictions.\r\n",
        "\r\n",
        "\r\n",
        "\r\n"
      ]
    },
    {
      "cell_type": "markdown",
      "metadata": {
        "id": "VNxBrh6Pgpoc"
      },
      "source": [
        "## Markov Chains\r\n",
        " \r\n",
        "<figure><center>\r\n",
        "<img src='https://drive.google.com/uc?id=12QN6EHTg_-fFxX2fYAhdu66-elyO1GNU' width='20%'>\r\n",
        "<figcaption>Andrei A. Markov - Russian Mathematician</figcaption>\r\n",
        "\r\n",
        "</center></figure>\r\n",
        "\r\n",
        "Now let us look at another interesting Bayesian Model, called *Markov Model*. Its a fairly simple probabilistic approach. Markov Models, also known as Markov Chains, are used to predict continuously from a set of possible predictions, and this completely depends on probabilities. To put the whole idea in one sentence, A Markov Model tries to give the next prediction given a current prediction. So given a prediction, we try to find out what is the probability of the next prediction. So based on these probabilities, the next prediction is made. Predictions with more probability are more likely to be made.\r\n",
        "\r\n",
        "Let us understand this with an example. Suppose you know that today is a Cloudy Day, what is the probability of a Sunny Day tomorrow, or a windy day, or a Raining day. How is this calculated? By analysing *data*. Suppose you gather data on the weather conditions of each day. The probability of the occurence of a particular weather condition is simply calculated by a probabilistic model - how many times, of all days in the data that the weather was like today, was the weather of the next day Sunny? or windy?. More occurences of Sunny after a day in the past, on which there was weather condition was similar to today,  higher the  probability of the occurence of a sunny weather tomorrow too. Hope the idea is clear. This is pretty straighforward, and makes practical sense too. \r\n",
        "\r\n",
        "<figure><center>\r\n",
        "<img src='https://drive.google.com/uc?id=1dAjzO1-DLj-BYGYC8v1qmjjqViGI0s1h' width='40%'>\r\n",
        "</center></figure>\r\n",
        "\r\n",
        "This modeling technique can be used in many scenarios. Obviously it can be used to predict a sequence of occurences, like the weather conditions. But there are some more advanced and interesting applications. For example, You can create an **Auto text generator** using this. Let us see how this works:\r\n"
      ]
    },
    {
      "cell_type": "markdown",
      "metadata": {
        "id": "aLf_tiWxyH7U"
      },
      "source": [
        "### Case Study: Auto Text Generator\r\n",
        "\r\n",
        "The idea is the same, suppose I start with a single word. We will build a Markiv Chain Model, that predicts the next word by analysing data. The data can be a huge corpus of text. Suppose the first word is \"The\". We find out the occurence of different words after \"The\" in the data. The word that occurs the highest number of times has a higher chance of being the next word. Lets say, that 60% of the times, the word that follows \"The\" is \"Apple\", 20% of the times is \"Banana\", 10% of times \"Orange\" and 10% of the times \"Horse\". So out of 100 times the word \"The\" appears in our predicted text, the Markov model would predict the next word to be \"Apple\" approximately 60 times, and so on.\r\n",
        "\r\n",
        "Let us pick a random text as our data. We use the most boring text there could be ([for real, apparantly!](https://www.brade.zone/2008/09/13/boring/)). \r\n"
      ]
    },
    {
      "cell_type": "code",
      "metadata": {
        "id": "0yu2X2_fBph_"
      },
      "source": [
        "input=f\"\"\"I am writing something. Yes, I plan to make it the most boring thing ever written. I go to the store. A car is parked. Many cars are parked or moving. Some are blue. Some are tan. They have windows. In the store, there are items for sale. These include such things as soap, detergent, magazines, and lettuce. You can enhance your life with these products. Soap can be used for bathing, be it in a bathtub or in a shower. Apply the soap to your body and rinse. Detergent is used to wash clothes. Place your dirty clothes into a washing machine and add some detergent as directed on the box. Select the appropriate settings on your washing machine and you should be ready to begin. Magazines are stapled reading material made with glossy paper, and they cover a wide variety of topics, ranging from news and politics to business and stock market information. Some magazines are concerned with more recreational topics, like sports card collecting or different kinds of hairstyles. Lettuce is a vegetable. It is usually green and leafy, and is the main ingredient of salads. You may have an appliance at home that can quickly shred lettuce for use in salads. Lettuce is also used as an optional item for hamburgers and deli sandwiches. Some people even eat lettuce by itself. I have not done this. So you can purchase many types of things at stores.\r\n",
        "\r\n",
        "If I drive around, I sometimes notice the houses and buildings all around. There are also pieces of farm land that are very large. Houses can be built from different kinds of materials. The most common types are brick, wood, and vinyl or synthetic siding. Houses have lawns that need to be tended. Lawns need to be mowed regularly. Most people use riding lawnmowers to do this. You can also use a push mower. These come in two varieties: gas-powered and manual. You don’t see manual push-mowers very much anymore, but they are a good option if you do not want to pollute the air with smoke from a gas-powered lawnmower. I notice that many families designate the lawnmowing responsibility to a teenager in the household. Many of these teenagers are provided with an allowance for mowing the yard, as well as performing other chores, like taking out the trash, washing the dishes, making their bed, and keeping the house organized. Allowances are small amounts of money given by parents to their children, usually on a weekly basis. These usually range from 5 dollars to 15 dollars, sometimes even 20 dollars. Many parents feel that teenagers can learn financial responsibility with this system.\r\n",
        "\r\n",
        "Now I will talk about farm land. Farm land can be identified by some common features. They almost always consist of a very large patch of dirt with small green plants lined up in very long rows. You may sometimes see farm equipment riding over these rows, like tractors or combines. These machines help farmers grow more crops in less time. They are a very helpful invention. Some different types of crops are soybeans, cotton, corn, tomatoes, tobacco, and lettuce (which I mentioned earlier). Most crops are used as food, and can be defined as either fruits or vegetables. Some are commonly eaten raw, after being rinsed in water to remove any dirt. Some are often cooked, which helps give them a more pleasant taste and makes them easier to chew. A very versatile vegetable is the potato. It can be eaten raw, or it can be cooked in a variety of ways. They can be baked, and many people like to add butter to them. They can be mashed, and a lot of times brown gravy or milk gravy is poured on top of them. They can be cut into thin strips and fried. Typically a large amount of grease is required to prepare potatoes in this style, but they are easy to make and easy to eat. You can order them at several fast-food restaurants. Potatoes can also be boiled, stewed, and scalloped. There is a wide variety of options available to you when cooking potatoes.\r\n",
        "\r\n",
        "Some other types of crops grown on farm land are used for other purposes. Cotton is used to make clothing (which I also mentioned earlier). It is a very versatile and inexpensive material for clothes. Such items as shirts, pants, socks, and underwear can be made from cotton. The process of converting cotton from a cotton plant to clothing is fairly complicated. Today, cotton is harvested more efficiently through the use of the cotton gin, invented by Eli Whitney many years ago.\r\n",
        "\r\n",
        "Tobacco is another type of crop. It is used in making cigarettes. A lot of people smoke cigarettes, even though many medical sources have identified them as harmful to people’s health. Warnings are printed on cigarette packages reminding people of possible dangers resulting from smoking. Cigarettes are available in several brands, including Marlboro, Salem, and Virginia Slims. There is a brand called Kool, but I don’t know whether they are still available at most outlets. Tobacco farming is a large industry, and currently there is debate about it. Recently the government decided on some regulations that cost tobacco companies a large amount of money.\r\n",
        "\r\n",
        "If you notice, some farm lands have animals living on them. Most of these are cows, and there are also pigs, sheep, and goats living on farms. Some are raised for the milk they provide. This milk goes through several processes to ensure that it is not contaminated before it is made available to consumers at stores (which I mentioned earlier). Another use for farm animals is meat. Three popular types of meat are beef, pork, and chicken. Beef comes from cows. Pork comes from pigs. Chicken comes from chickens, but you probably knew that. These animals are raised to become plump and healthy, then they are killed, sometimes at slaughter houses. The meat is then removed from their bodies, cleaned, and made available at a variety of stores and restaurants. Sometimes this process can seem gross, but it is part of an advanced ecological food chain on earth. Just like birds eat worms and tigers eat deer, human beings eat cows and pigs. The main difference is that we don’t eat animals raw. We cook the meat to remove blood, fat, and germs from it. We also season our meat with salt or different kinds of sauces. The end result is food that is very tasty and is healthy for us.\r\n",
        "\r\n",
        "Farmers do not like trespassers. If a farmer sees one, he will sometimes shoot at them with a shotgun that he owns. Trespassing is against the law. Laws are created by government to prevent people from living in fear. They are meant to provide safety for citizens. Our government in America consists of a legislative branch, an executive branch, and a judicial branch. The legislative branch makes laws based on the concerns of citizens they represent. The executive branch consists of the President. This person enforces the law, and he has certain other duties like declaring war and approving bills prepared by members of the legislative branch. The President is also considered the leader of our country. The judicial branch interprets the laws. This branch consists of the courts and the trials held in them. Here a judge and jury determine from evidence presented by lawyers whether someone is guilty of breaking a law. Initial law enforcement takes place among police officers. They are the first people to encounter situations where a law is being broken. If a criminal (law-breaker) becomes too violent or hostile, they will use guns or mace or nightsticks to administer immediate punishment. Their goal is to bring the criminal under control, so that he can receive a punishment determined by members of the judicial branch of government. Punishments mostly include time in jail, but they can also include fines and, in extreme cases, the death penalty. There is controversy surrounding the death penalty.\r\n",
        "\r\n",
        "Children play with toys. This is common to almost all kids. Toys come in a very wide variety. Boys tend to like cars, action figures, and toy weapons. Girls tend to like dolls, toy kitchens, and make-up. Both of them like building or assembling things, be it with Legos, blocks, Play-Doh, or something similar. Toys can be found at most stores, and these days entire stores are dedicated to selling only toys. The most popular of these is Toys ‘R’ Us (with a backwards “R”). Their mascot is Geoffrey the Giraffe. Children love to go to Toys ‘R’ Us and look at the wide variety of toys available. Most children receive the greatest quanitity of toys on their birthdays, or during the holiday season in December. For the majority of children, this holiday is Christmas. For Jewish children, the holiday is Channakuh. Either way, the kid gets presents during this time, and most of these presents are toys.\r\n",
        "\r\n",
        "Christmas is a holiday which has gradually become centered around the character “Santa Claus” and his elves and reindeer. Children are told that Santa’s elves build their toys, and Santa delivers them personally to each house in the world by riding in an airborne sleigh hauled by nine reindeer, including Rudolph the red-nosed reindeer, who leads the way. Another popular Christmas character is Frosty the Snowman. Frosty is basically any snowman that comes to life. So during Christmas, many children build snowmen, and some of them hope that theirs might come to life. But all of these characters are myths. The true origin of Christmas is a celebration of the birth of Jesus, who founded the religion of Christianity a couple of thousand years ago. Many popular Christmas carols deal with his story, such as “Joy to the World” and “Silent Night.”\r\n",
        "\r\n",
        "Other holidays include Thanksgiving, Halloween, and Independence Day. Thanksgiving has become a tradition of preparing large quantities of food for a large gathering of people, mainly family and friends. This meal usually features turkey or ham as the main course. Turkey and ham are both kinds of meat (which I mentioned earlier). The meal usually also consists of dressing and a wide assortment of vegetables (which I also mentioned earlier). The origin of Thanksgiving is usually traced to the days of the pilgrims, who were the first settlers in America. They made peace with the native people, the Indians, and together enjoyed a large feast, thanking God for providing them with such an abundance. (Their concepts of God were probably very different.)\r\n",
        "\r\n",
        "Halloween is the holiday when people dress in costumes to look like other characters. Most of these are children, who go from door to door in different neighborhoods to request candy from the people living there. They usually say “trick or treat” then receive a treat. Very rarely does the person in the house respond with a trick. Halloween has some sort of demonic origin that I am not quite sure about, but the name derives from “All Hallow’s Eve.” I will not say much about Independence Day, but it is the day Americans celebrate the anniversary of our independence from Britain. Most families purchase fireworks during this holiday and set them off in their lawns (which I mentioned earlier).\r\n",
        "\r\n",
        "America gained independence from Britain in the late 1700’s after the Revolutionary War. Britain was hoping to extend its empire across the Atlantic Ocean, but the colonists who settled the territory did not want to be under Britain’s control, with their various taxes and regulations. Both sides were very passionate about their position on the issue, so a war occurred. This war featured a few heroes, including George Washington and Paul Revere. George Washington became America’s first president when we gained independence. I am not sure what happened to Paul Revere. The Declaration of Independence was written before the war by Thomas Jefferson in 1776 and made clear the position of the colonists. It was signed by many important people, including Ben Franklin and John Hancock. Ben Franklin is well-known for many things. One of these is inventing electrical conductors in the form of lightning rods. A famous tale is that he flew a kite with a small piece of metal somewhere on the string during a lightning storm. This was an effective way to test his theory. Another thing Ben Franklin is known for is publishing Poor Richards Almanac. This was like a magazine and contained some of his famous writings and quotations. One famous quote was “Tell me, I forget. Teach me, I remember. Involve me, I learn.” Maybe this had something to do with why he flew that kite.\r\n",
        "\r\n",
        "Trees are one of our most important natural resources. They are made of wood, and wood can be made into a variety of products. Some of the more obvious kinds are furniture, houses, and toothpicks. However, wood can also be made into paper. When I first heard this, I was skeptical, but it is true. Paper is a very important product in our society. Writers and artists have greatly benefited from the invention of paper. With only some paper and a pen or pencil, a writer can produce stories and poems that can captivate readers. They can also write down historical facts about their society. Actually, these writings don’t become historical until years later. At the time, the writings could probably be considered news. Artists use paper for their drawings and paintings. They can also use canvas. Drawings and paintings can be very beautiful. They can depict a wide variety of subjects, including flowers, animals, landscapes, and people. They can be realistic or impressionistic. Some paintings also attempt to convey emotions merely by the way the colors are combined and the brushstrokes are applied. This is a modern or contemporary approach to art. Many people think this approach does not require as much talent as the realistic styles.\r\n",
        "\r\n",
        "I will end my writing here. I have tried to make it very boring, and I hope I have succeeded. There are plenty of boring documents available for you to read. Check your public library for more information. You can also find boring materials at a bookstore or on websites. Sometimes this information can be found in magazines (which I mentioned earlier).\"\"\""
      ],
      "execution_count": 21,
      "outputs": []
    },
    {
      "cell_type": "markdown",
      "metadata": {
        "id": "q697m0XU6sxR"
      },
      "source": [
        "For the sake of simplicity, we remove all special characters (except a blank space) and even convert all text into lowercase text. To remove all special characters, we use a special type of language in python, called *Regex*, which stands for *Regular Expressions*. Its like telling python to do tasks which are otherwise hard to execute by code. For example, \"take all alphabetical letters, except the letter 'a','b' and 'z', but only uptil you encounter an underscore, after which, you only omit the letter 'z' \", and so on. You get the idea!\r\n",
        "Its extremely useful to know regex in Python, and there are great tutorials online. But many times, you can find prewritten regex for your particular task on forums, and so not knowing regex is not necessarily a barrier!\r\n",
        "\r\n",
        "So regex can be used after importing the `re` library."
      ]
    },
    {
      "cell_type": "code",
      "metadata": {
        "id": "uxmSII9o8aGH"
      },
      "source": [
        "import re"
      ],
      "execution_count": 22,
      "outputs": []
    },
    {
      "cell_type": "markdown",
      "metadata": {
        "id": "pmO7LzSN86C-"
      },
      "source": [
        "We define a function that can remove all special characters from a text, and convert everything to lowercase. It then returns a list containing the words in the text in the exact same sequence as they occur in the text."
      ]
    },
    {
      "cell_type": "code",
      "metadata": {
        "id": "32NPuYLQ6sPz"
      },
      "source": [
        "def simplify(text: str): return re.sub(r\"\\W+|_\", \" \", text).lower().split() #returns a list of words"
      ],
      "execution_count": 23,
      "outputs": []
    },
    {
      "cell_type": "code",
      "metadata": {
        "id": "Sz83GfBJPRPS",
        "colab": {
          "base_uri": "https://localhost:8080/"
        },
        "outputId": "f4c3a320-efde-4080-80a9-bc7b9783184f"
      },
      "source": [
        "text =simplify(input)\r\n",
        "text[:10],len(text)"
      ],
      "execution_count": 24,
      "outputs": [
        {
          "output_type": "execute_result",
          "data": {
            "text/plain": [
              "(['i', 'am', 'writing', 'something', 'yes', 'i', 'plan', 'to', 'make', 'it'],\n",
              " 2400)"
            ]
          },
          "metadata": {
            "tags": []
          },
          "execution_count": 24
        }
      ]
    },
    {
      "cell_type": "markdown",
      "metadata": {
        "id": "ERd-MgYn-LXX"
      },
      "source": [
        "So now, in order to create a model, we will create a data structure, which contains the next occurences of all words, because that's what we're concerned with. So we use a python dictionary, with keys as words, and their corresponding values as a list of all the successive occurences in all of the data (the text above).\r\n",
        "\r\n",
        "The idea behind this is as follows. We will start with a word. Then we look up the successive occurences to the word from this dictionary, and choose a random word. Now this word is our present prediction. Now we will predict the next word through the successive occurences of this present prediction, and this cycle goes on. You can visualize this using the representation below. Each prediction acts as an input for the next prediction!\r\n",
        "\r\n",
        "<figure><center>\r\n",
        "<img src='https://drive.google.com/uc?id=1SNp15ppS1BVfoFSU48ox90xtHlG2EzvJ' width='30%'>\r\n",
        "</center></figure>\r\n",
        "\r\n",
        "\r\n",
        "(Credits: Joshua Payne for [this](https://joshua-payne.medium.com/an-introduction-to-recurrent-neural-networks-8151823daeb7) article)\r\n",
        "\r\n",
        "Each word's corresponding occurence list can have one word appear more than once. So we will simply make a list of all the successive occurences in the text - and a word can occur in this list as many times as the combination of the present word and a particular successor occur together. This will infact help us. Since we will choose a random word as our prediction, more the occurences of a particular word, more likely it is to be chosen, right?! So that aligns with our concepts very well."
      ]
    },
    {
      "cell_type": "code",
      "metadata": {
        "id": "_hp40qfJB2e4"
      },
      "source": [
        "def get_occurences(text: list):\r\n",
        "    \"\"\"\r\n",
        "    This function takes in a sequence of text as a list, and creates a dictionary of all words in the text, with their values being a list of all words that\r\n",
        "    have been seen to occur after the word, in the text.\r\n",
        "    Sometimes, a word may not have a successor at all (like the ending word of the text). We don't want our predictions to stop. So we simply add all the words \r\n",
        "    from the text to the value of that word key, so that the model will randomly choose any word from the entire corpus, and start predicting all over again.\r\n",
        "\r\n",
        "    \"\"\"\r\n",
        "    dictionary={k:[] for k in set(text)}\r\n",
        "    for k,i in enumerate(text[:-1]):\r\n",
        "        dictionary.get(i).append(text[k+1])\r\n",
        "    for key in dictionary: \r\n",
        "        if not dictionary.get(key): dictionary.get(key).extend(list(set(text)))\r\n",
        "    \r\n",
        "    return dictionary"
      ],
      "execution_count": 25,
      "outputs": []
    },
    {
      "cell_type": "code",
      "metadata": {
        "id": "QxfU68haZlAy",
        "colab": {
          "base_uri": "https://localhost:8080/"
        },
        "outputId": "2569b302-6338-4531-803f-718db93ae7b6"
      },
      "source": [
        "text_dict=get_occurences(text)\r\n",
        "print(text_dict)"
      ],
      "execution_count": 26,
      "outputs": [
        {
          "output_type": "stream",
          "text": [
            "{'writings': ['and', 'don', 'could'], 't': ['see', 'know', 'eat', 'become'], 'lawnmower': ['i'], 'artists': ['have', 'use'], 'wood': ['and', 'and', 'can', 'can'], 'tigers': ['eat'], 'landscapes': ['and'], 'food': ['and', 'restaurants', 'chain', 'that', 'for'], 'business': ['and'], 'you': ['can', 'should', 'may', 'can', 'can', 'don', 'do', 'may', 'can', 'when', 'notice', 'probably', 'to', 'can'], 'situations': ['where'], 'merely': ['by'], 'water': ['to'], 'styles': ['i'], 'halloween': ['and', 'is', 'has'], 'kitchens': ['and'], 'may': ['have', 'sometimes'], 'tell': ['me'], 'santa': ['claus', 's', 'delivers'], 'building': ['or'], 'salads': ['you', 'lettuce'], 'takes': ['place'], 'safety': ['for'], 'poems': ['that'], 'trespassers': ['if'], 'trials': ['held'], 'organized': ['allowances'], 'declaration': ['of'], 'some': ['are', 'are', 'detergent', 'magazines', 'people', 'common', 'different', 'are', 'are', 'other', 'regulations', 'farm', 'are', 'of', 'sort', 'of', 'of', 'paper', 'paintings'], 'his': ['elves', 'story', 'theory', 'famous'], 'quite': ['sure'], 'season': ['our', 'in'], '1776': ['and'], 'designate': ['the'], 'jesus': ['who'], 'snowmen': ['and'], 'extend': ['its'], 'underwear': ['can'], 'among': ['police'], 'famous': ['tale', 'writings', 'quote'], 'obvious': ['kinds'], 'presents': ['during', 'are'], 'though': ['many'], 'tobacco': ['and', 'is', 'farming', 'companies'], 'household': ['many'], 'he': ['will', 'owns', 'has', 'can', 'flew', 'flew'], 'paintings': ['they', 'can', 'also'], 'combines': ['these'], 'dollars': ['to', 'sometimes', 'many'], 'rarely': ['does'], 'tomatoes': ['tobacco'], 'range': ['from'], 'including': ['marlboro', 'rudolph', 'george', 'ben', 'flowers'], 'appropriate': ['settings'], 'hamburgers': ['and'], 'pencil': ['a'], 'part': ['of'], 'eli': ['whitney'], 'controversy': ['surrounding'], 'channakuh': ['either'], 'facts': ['about'], 'smoking': ['cigarettes'], 'when': ['cooking', 'people', 'we', 'i'], 'medical': ['sources'], 'families': ['designate', 'purchase'], 'industry': ['and'], 'pieces': ['of'], 'determine': ['from'], 'breaker': ['becomes'], 'toothpicks': ['however'], 'duties': ['like'], 'public': ['library'], 'resulting': ['from'], 'fairly': ['complicated'], 'writers': ['and'], 'meant': ['to'], 'chain': ['on'], 'its': ['empire'], 'abundance': ['their'], 'beings': ['eat'], 'toy': ['weapons', 'kitchens'], 'earlier': ['most', 'it', 'another', 'the', 'the', 'america'], 'concerns': ['of'], 'personally': ['to'], 'sandwiches': ['some'], 'bills': ['prepared'], 'string': ['during'], 'elves': ['and', 'build'], 'heard': ['this'], '5': ['dollars'], 'after': ['being', 'the'], 'hope': ['that', 'i'], 'drive': ['around'], 'well': ['as', 'known'], 'remove': ['any', 'blood'], 'sheep': ['and'], 'at': ['home', 'stores', 'several', 'most', 'stores', 'slaughter', 'a', 'them', 'most', 'the', 'the', 'a'], 'main': ['ingredient', 'difference', 'course'], 'teenagers': ['are', 'can'], 'order': ['them'], 'raised': ['for', 'to'], 'be': ['used', 'it', 'ready', 'built', 'tended', 'mowed', 'identified', 'defined', 'eaten', 'cooked', 'baked', 'mashed', 'cut', 'boiled', 'made', 'it', 'found', 'under', 'made', 'made', 'considered', 'very', 'realistic', 'found'], 'similar': ['toys'], 'issue': ['so'], 'whitney': ['many'], 'i': ['am', 'plan', 'go', 'have', 'drive', 'sometimes', 'notice', 'will', 'mentioned', 'also', 'don', 'mentioned', 'mentioned', 'also', 'am', 'will', 'mentioned', 'am', 'forget', 'remember', 'learn', 'first', 'was', 'will', 'have', 'hope', 'have', 'mentioned'], 'magazines': ['and', 'are', 'are', 'which'], 'eaten': ['raw', 'raw'], 'christmas': ['for', 'is', 'character', 'many', 'is', 'carols'], 'law': ['laws', 'and', 'initial', 'enforcement', 'is', 'breaker'], 'cook': ['the'], 'across': ['the'], 'extreme': ['cases'], 'guns': ['or'], 'lot': ['of', 'of'], 'cigarettes': ['a', 'even', 'are'], 'amount': ['of', 'of'], 'interprets': ['the'], 'modern': ['or'], 'almanac': ['this'], 'franklin': ['and', 'is', 'is'], 'give': ['them'], 'websites': ['sometimes'], 'then': ['they', 'removed', 'receive'], 'gets': ['presents'], 'nine': ['reindeer'], 'killed': ['sometimes'], 'natural': ['resources'], 'wash': ['clothes'], 'poor': ['richards'], 'air': ['with'], 'independence': ['day', 'day', 'from', 'from', 'i', 'was'], 'theirs': ['might'], 'paper': ['and', 'when', 'is', 'with', 'and', 'for'], 'founded': ['the'], 'possible': ['dangers'], 'advanced': ['ecological'], 'hauled': ['by'], 'mowing': ['the'], 'farming': ['is'], 'basis': ['these'], 'smoke': ['from', 'cigarettes'], 'emotions': ['merely'], 'from': ['news', 'different', 'a', '5', 'cotton', 'a', 'smoking', 'cows', 'pigs', 'chickens', 'their', 'it', 'living', 'evidence', 'door', 'the', 'all', 'britain', 'britain', 'the'], 'money': ['given', 'if'], 'build': ['their', 'snowmen'], 'family': ['and'], 'birth': ['of'], 'important': ['people', 'natural', 'product'], 'ever': ['written'], 'goats': ['living'], 'blood': ['fat'], 'clothing': ['which', 'is'], 'surrounding': ['the'], 'machines': ['help'], 'only': ['toys', 'some'], 'night': ['other'], 'ready': ['to'], 'sleigh': ['hauled'], 'god': ['for', 'were'], 'branch': ['an', 'and', 'the', 'makes', 'consists', 'the', 'interprets', 'consists', 'of'], 'piece': ['of'], 'greatest': ['quanitity'], 'character': ['santa', 'is'], 'your': ['life', 'body', 'dirty', 'washing', 'public'], 'was': ['hoping', 'written', 'signed', 'an', 'like', 'tell', 'skeptical'], 'subjects': ['including'], 'include': ['such', 'time', 'fines', 'thanksgiving'], 'taste': ['and'], 'tale': ['is'], 'drawings': ['and', 'and'], 'stock': ['market'], 'land': ['that', 'farm', 'can', 'are'], 'frosty': ['the', 'is'], 'powered': ['and', 'lawnmower'], 'until': ['years'], 'courts': ['and'], 'plump': ['and'], 'enjoyed': ['a'], 'whether': ['they', 'someone'], 'doh': ['or'], 'equipment': ['riding'], 'warnings': ['are'], 'origin': ['of', 'of', 'that'], 'top': ['of'], 'thousand': ['years'], 'respond': ['with'], 'over': ['these'], 'sports': ['card'], 'helpful': ['invention'], 'materials': ['the', 'at'], 'way': ['the', 'another', 'to', 'the'], 'could': ['probably'], 'vinyl': ['or'], 'washing': ['machine', 'machine', 'the'], 'skeptical': ['but'], 'mostly': ['include'], 'tried': ['to'], 'given': ['by'], '20': ['dollars'], 'approving': ['bills'], 'an': ['appliance', 'optional', 'allowance', 'advanced', 'executive', 'airborne', 'abundance', 'effective'], 'make': ['it', 'and', 'clothing', 'up', 'it'], 'machine': ['and', 'and'], 'milk': ['gravy', 'they', 'goes'], 'boring': ['thing', 'and', 'documents', 'materials'], 'mower': ['these'], 'us': ['farmers', 'with', 'and'], 'houses': ['and', 'can', 'have', 'the', 'and'], 'come': ['in', 'in', 'to'], 'members': ['of', 'of'], 'violent': ['or'], 'do': ['this', 'not', 'not', 'with'], 'grease': ['is'], 'talk': ['about'], 'currently': ['there'], 'did': ['not'], 'atlantic': ['ocean'], 'cover': ['a'], 'store': ['a', 'there'], 'push': ['mower', 'mowers'], 'the': ['most', 'store', 'store', 'soap', 'box', 'appropriate', 'main', 'houses', 'most', 'air', 'lawnmowing', 'household', 'yard', 'trash', 'dishes', 'house', 'potato', 'process', 'use', 'cotton', 'government', 'milk', 'meat', 'main', 'meat', 'end', 'law', 'legislative', 'concerns', 'executive', 'president', 'law', 'legislative', 'president', 'leader', 'judicial', 'laws', 'courts', 'trials', 'first', 'criminal', 'judicial', 'death', 'death', 'most', 'giraffe', 'wide', 'greatest', 'holiday', 'majority', 'holiday', 'kid', 'character', 'world', 'red', 'way', 'snowman', 'true', 'birth', 'religion', 'world', 'main', 'meal', 'origin', 'days', 'pilgrims', 'first', 'native', 'indians', 'holiday', 'people', 'person', 'house', 'name', 'day', 'anniversary', 'late', 'revolutionary', 'atlantic', 'colonists', 'territory', 'issue', 'declaration', 'war', 'position', 'colonists', 'form', 'string', 'more', 'invention', 'time', 'writings', 'way', 'colors', 'brushstrokes', 'realistic'], 'dirty': ['clothes'], 'complicated': ['today'], 'sides': ['were'], 'brands': ['including'], 'gathering': ['of'], 'actually': ['these'], 'learn': ['financial', 'maybe'], 'good': ['option'], 'consist': ['of'], 'costumes': ['to'], 'types': ['of', 'are', 'of', 'of', 'of'], 'certain': ['other'], 'kite': ['with', 'trees'], 'times': ['brown'], 'lawyers': ['whether'], 'find': ['boring'], 'greatly': ['benefited'], 'cotton': ['corn', 'is', 'the', 'from', 'plant', 'is', 'gin'], 'feel': ['that'], 'strips': ['and'], 'why': ['he'], 'effective': ['way'], 'religion': ['of'], 'carols': ['deal'], 'kids': ['toys'], 'worms': ['and'], 'backwards': ['r'], 'applied': ['this'], 'feast': ['thanking'], '15': ['dollars'], 'health': ['warnings'], 'weekly': ['basis'], 'select': ['the'], 'rudolph': ['the'], 'need': ['to', 'to'], 'vegetable': ['it', 'is'], 'ranging': ['from'], 'these': ['include', 'products', 'come', 'teenagers', 'usually', 'rows', 'machines', 'are', 'animals', 'days', 'is', 'presents', 'characters', 'are', 'is', 'writings'], 'receive': ['a', 'the', 'a'], 'scalloped': ['there'], 'should': ['be'], 'deli': ['sandwiches'], 'course': ['turkey'], 'peace': ['with'], 'living': ['on', 'on', 'in', 'there'], 'say': ['trick', 'much'], 'anniversary': ['of'], 'talent': ['as'], 'purposes': ['cotton'], 'war': ['and', 'britain', 'occurred', 'featured', 'by'], 'hancock': ['ben'], 'butter': ['to'], 'bring': ['the'], 'trick': ['or', 'halloween'], 'system': ['now'], 'stewed': ['and'], 'remember': ['involve'], 'yes': ['i'], 'approach': ['to', 'does'], 'difference': ['is'], 'signed': ['by'], 'declaring': ['war'], 'r': ['us', 'their', 'us'], 'produce': ['stories'], 'want': ['to', 'to'], 'glossy': ['paper'], 'printed': ['on'], 'day': ['thanksgiving', 'but', 'americans'], 'grow': ['more'], 'wide': ['variety', 'variety', 'variety', 'variety', 'assortment', 'variety'], 'crops': ['in', 'are', 'are', 'grown'], 'people': ['even', 'use', 'like', 'smoke', 's', 'of', 'from', 'to', 'mainly', 'the', 'dress', 'living', 'including', 'they', 'think'], 'available': ['to', 'in', 'at', 'to', 'at', 'most', 'for'], 'inventing': ['electrical'], 'toys': ['this', 'come', 'can', 'the', 'r', 'r', 'available', 'on', 'christmas', 'and'], 'somewhere': ['on'], 'assembling': ['things'], 'sort': ['of'], 'for': ['sale', 'bathing', 'use', 'hamburgers', 'mowing', 'other', 'clothes', 'the', 'farm', 'us', 'citizens', 'the', 'jewish', 'a', 'providing', 'many', 'is', 'their', 'you', 'more'], 'turkey': ['or', 'and'], 'lawnmowing': ['responsibility'], 'financial': ['responsibility'], 'always': ['consist'], 'regulations': ['that', 'both'], 'president': ['this', 'is', 'when'], 'deal': ['with'], 'makes': ['them', 'laws'], 'cost': ['tobacco'], 'popular': ['types', 'of', 'christmas', 'christmas'], 'deer': ['human'], 'itself': ['i'], 'on': ['the', 'your', 'a', 'top', 'farm', 'cigarette', 'some', 'them', 'farms', 'earth', 'the', 'their', 'the', 'the', 'websites'], 'many': ['cars', 'types', 'families', 'of', 'parents', 'people', 'years', 'medical', 'children', 'popular', 'important', 'things', 'people'], 'plants': ['lined'], 'has': ['certain', 'gradually', 'become', 'some'], 'found': ['at', 'in'], 'celebration': ['of'], 'door': ['to', 'in'], 'represent': ['the'], 'style': ['but'], 'impressionistic': ['some'], 'convey': ['emotions'], 'go': ['to', 'to', 'from'], 'can': ['enhance', 'be', 'quickly', 'purchase', 'be', 'also', 'learn', 'be', 'be', 'be', 'be', 'be', 'be', 'be', 'order', 'also', 'be', 'seem', 'receive', 'also', 'be', 'be', 'also', 'produce', 'captivate', 'also', 'also', 'be', 'depict', 'be', 'also', 'be'], 'much': ['anymore', 'about', 'talent'], 'market': ['information'], 'punishments': ['mostly'], 'assortment': ['of'], 'gravy': ['or', 'is'], 'cleaned': ['and'], 'selling': ['only'], 'farm': ['land', 'land', 'land', 'equipment', 'land', 'lands', 'animals'], 'meat': ['three', 'are', 'is', 'to', 'with', 'which'], 'were': ['the', 'probably', 'very'], 'pants': ['socks'], 'settled': ['the'], 'optional': ['item'], 'dangers': ['resulting'], 'salt': ['or'], 'revere': ['george', 'the'], 'where': ['a'], 'commonly': ['eaten'], 'have': ['windows', 'an', 'not', 'lawns', 'identified', 'animals', 'greatly', 'tried', 'succeeded'], 'form': ['of'], 'determined': ['by'], 'citizens': ['our', 'they'], 'birthdays': ['or'], 'leafy': ['and'], 'windows': ['in'], 'pen': ['or'], 'blocks': ['play'], 'contemporary': ['approach'], 'features': ['they', 'turkey'], 'out': ['the'], 'too': ['violent'], 'taxes': ['and'], 'legislative': ['branch', 'branch', 'branch'], 'now': ['i'], 'still': ['available'], 'red': ['nosed'], 'shred': ['lettuce'], 'gin': ['invented'], 'removed': ['from'], 'magazine': ['and'], 'prevent': ['people'], 'writing': ['something', 'here'], 'off': ['in'], 'hoping': ['to'], 'written': ['i', 'before'], 'which': ['i', 'helps', 'i', 'i', 'has', 'i', 'i', 'i', 'i'], 'boiled': ['stewed'], 'together': ['enjoyed'], 'goal': ['is'], 'snowman': ['frosty', 'that'], 'process': ['of', 'can'], 'clothes': ['place', 'into', 'such'], 'result': ['is'], 'socks': ['and'], 'ham': ['as', 'are'], 'theory': ['another'], 'slims': ['there'], 'ben': ['franklin', 'franklin', 'franklin'], 'fruits': ['or'], 'brown': ['gravy'], 'that': ['can', 'are', 'need', 'many', 'teenagers', 'cost', 'it', 'these', 'we', 'is', 'he', 'he', 'santa', 'comes', 'theirs', 'i', 'he', 'kite', 'can'], 'moving': ['some'], 'manual': ['you', 'push'], 'is': ['parked', 'used', 'a', 'usually', 'the', 'also', 'the', 'poured', 'required', 'a', 'used', 'a', 'fairly', 'harvested', 'another', 'used', 'a', 'a', 'debate', 'not', 'made', 'meat', 'then', 'part', 'that', 'food', 'very', 'healthy', 'against', 'also', 'guilty', 'being', 'to', 'controversy', 'common', 'toys', 'geoffrey', 'christmas', 'channakuh', 'a', 'frosty', 'basically', 'a', 'usually', 'the', 'the', 'well', 'inventing', 'that', 'known', 'publishing', 'true', 'a', 'a'], 'built': ['from'], 'add': ['some', 'butter'], 'soybeans': ['cotton'], 'mascot': ['is'], 'quotations': ['one'], 'dedicated': ['to'], 'indians': ['and'], 'bathtub': ['or'], 'realistic': ['or', 'styles'], 'vegetables': ['some', 'which'], 'required': ['to'], 'sure': ['about', 'what'], 'three': ['popular'], 'ensure': ['that'], 'not': ['done', 'want', 'contaminated', 'like', 'quite', 'say', 'want', 'sure', 'require'], 'several': ['fast', 'brands', 'processes'], 'during': ['the', 'this', 'christmas', 'this', 'a'], 'rods': ['a'], 'days': ['entire', 'of'], 'years': ['ago', 'ago', 'later'], 'but': ['they', 'they', 'i', 'you', 'it', 'they', 'all', 'the', 'it', 'the', 'it'], 'publishing': ['poor'], 'initial': ['law'], 'told': ['that'], 'ingredient': ['of'], 'it': ['the', 'in', 'is', 'can', 'can', 'is', 'is', 'recently', 'is', 'is', 'is', 'we', 'with', 'is', 'was', 'is', 'very'], 'seem': ['gross'], 'guilty': ['of'], 'trash': ['washing'], 'often': ['cooked'], 'decided': ['on'], 'nightsticks': ['to'], 'punishment': ['their', 'determined'], 'under': ['control', 'britain'], 'various': ['taxes'], 'bathing': ['be'], 'farmers': ['grow', 'do'], 'more': ['recreational', 'crops', 'pleasant', 'efficiently', 'obvious', 'information'], 'sources': ['have'], 'so': ['you', 'that', 'during', 'a'], 'shower': ['apply'], 'even': ['eat', '20', 'though'], 'up': ['in', 'both'], 'name': ['derives'], 'tractors': ['or'], 'also': ['used', 'pieces', 'use', 'be', 'mentioned', 'pigs', 'season', 'considered', 'include', 'consists', 'mentioned', 'be', 'write', 'use', 'attempt', 'find'], 'hostile': ['they'], 'directed': ['on'], 'electrical': ['conductors'], 'forget': ['teach'], 'myths': ['the'], 'cigarette': ['packages'], 'lined': ['up'], 'jail': ['but'], 'into': ['a', 'thin', 'a', 'paper'], 'time': ['they', 'in', 'and', 'the'], 'contaminated': ['before'], 'just': ['like'], 'occurred': ['this'], 'making': ['their', 'cigarettes'], 'enforcement': ['takes'], 'neighborhoods': ['to'], 'corn': ['tomatoes'], 'restaurants': ['potatoes', 'sometimes'], 'long': ['rows'], 'silent': ['night'], 'gained': ['independence', 'independence'], 'notice': ['the', 'that', 'some'], 'became': ['america'], 'combined': ['and'], 'crop': ['it'], 'bed': ['and'], 'our': ['meat', 'government', 'country', 'independence', 'most', 'society'], 'another': ['type', 'use', 'popular', 'thing'], 'paul': ['revere', 'revere'], 'material': ['made', 'for'], 'chores': ['like'], 'against': ['the'], 'tended': ['lawns'], 'mowed': ['regularly'], 'test': ['his'], 'succeeded': ['there'], 'art': ['many'], 'home': ['that'], 'brushstrokes': ['are'], 'gas': ['powered', 'powered'], 'america': ['consists', 'they', 'gained', 's'], 'brick': ['wood'], 'invention': ['some', 'of'], 'judge': ['and'], 'revolutionary': ['war'], 'knew': ['that'], 'lands': ['have'], 'down': ['historical'], 'holidays': ['include'], 'require': ['as'], 'salem': ['and'], 'probably': ['knew', 'very', 'be'], 'officers': ['they'], 'small': ['amounts', 'green', 'piece'], 'heroes': ['including'], 'inexpensive': ['material'], 'patch': ['of'], 'basically': ['any'], 'considered': ['the', 'news'], 'pilgrims': ['who'], 'green': ['and', 'plants'], 'baked': ['and'], 'begin': ['magazines'], 'their': ['bed', 'children', 'bodies', 'goal', 'mascot', 'birthdays', 'toys', 'concepts', 'lawns', 'various', 'position', 'society', 'drawings'], 'owns': ['trespassing'], 'fireworks': ['during'], 'recently': ['the'], '1700': ['s'], 'contained': ['some'], 'preparing': ['large'], 'regularly': ['most'], 'there': ['are', 'are', 'is', 'is', 'is', 'are', 'is', 'they', 'are'], 'variety': ['of', 'of', 'of', 'of', 'boys', 'of', 'of', 'of'], 'prepare': ['potatoes'], 'farms': ['some'], 'detergent': ['magazines', 'is', 'as'], 'fried': ['typically'], 'with': ['these', 'glossy', 'more', 'smoke', 'an', 'this', 'small', 'salt', 'a', 'toys', 'legos', 'a', 'his', 'the', 'such', 'a', 'their', 'a', 'why', 'only'], 'evidence': ['presented'], 'couple': ['of'], 'thing': ['ever', 'ben'], 'like': ['sports', 'taking', 'tractors', 'to', 'birds', 'trespassers', 'declaring', 'cars', 'dolls', 'building', 'other', 'a'], 'resources': ['they'], 'car': ['is'], 'packages': ['reminding'], 'here': ['a', 'i'], 'encounter': ['situations'], 'most': ['boring', 'common', 'people', 'crops', 'outlets', 'of', 'stores', 'popular', 'children', 'of', 'of', 'families', 'important'], 'executive': ['branch', 'branch'], 'mace': ['or'], 'each': ['house'], 'cooking': ['potatoes'], 'different': ['kinds', 'kinds', 'types', 'kinds', 'halloween', 'neighborhoods'], 'grown': ['on'], 'demonic': ['origin'], 'thanking': ['god'], 'penalty': ['there', 'children'], 'immediate': ['punishment'], 'control': ['so', 'with'], 'flowers': ['animals'], 'write': ['down'], 'raw': ['after', 'or', 'we'], 'territory': ['did'], 'life': ['with', 'so', 'but'], 'kid': ['gets'], 'girls': ['tend'], 'outlets': ['tobacco'], 'varieties': ['gas'], 'end': ['result', 'my'], 'quanitity': ['of'], 'box': ['select'], 'brand': ['called'], 'eve': ['i'], 'john': ['hancock'], 'shirts': ['pants'], 'both': ['of', 'kinds', 'sides'], 'sees': ['one'], 'later': ['at'], 'one': ['he', 'of', 'famous', 'of'], 'dolls': ['toy'], 'siding': ['houses'], 'plenty': ['of'], 'colors': ['are'], 'other': ['chores', 'types', 'purposes', 'duties', 'holidays', 'characters'], 'topics': ['ranging', 'like'], 'kinds': ['of', 'of', 'of', 'of', 'are'], 'lawns': ['that', 'need', 'which'], 'rinsed': ['in'], 'called': ['kool'], 'delivers': ['them'], 'politics': ['to'], 'joy': ['to'], 'healthy': ['then', 'for'], 'parents': ['to', 'feel'], 'are': ['parked', 'blue', 'tan', 'items', 'stapled', 'concerned', 'also', 'very', 'brick', 'a', 'provided', 'small', 'a', 'soybeans', 'used', 'commonly', 'often', 'easy', 'used', 'printed', 'available', 'still', 'cows', 'also', 'raised', 'beef', 'raised', 'killed', 'created', 'meant', 'the', 'dedicated', 'toys', 'told', 'myths', 'both', 'children', 'one', 'made', 'furniture', 'combined', 'applied', 'plenty'], 'identified': ['by', 'them'], 'beautiful': ['they'], 'apply': ['the'], 'either': ['fruits', 'way'], 'airborne': ['sleigh'], 'options': ['available'], 'two': ['varieties'], 'in': ['the', 'a', 'a', 'salads', 'two', 'the', 'very', 'less', 'water', 'a', 'this', 'making', 'several', 'fear', 'america', 'them', 'jail', 'extreme', 'a', 'december', 'the', 'an', 'america', 'costumes', 'different', 'the', 'their', 'the', '1776', 'the', 'our', 'magazines'], 'candy': ['from'], 'quote': ['was'], 'mainly': ['family'], 'kool': ['but'], 'pigs': ['sheep', 'chicken', 'the'], 'earth': ['just'], 'someone': ['is'], 'check': ['your'], 'mashed': ['and'], 'first': ['people', 'settlers', 'president', 'heard'], 'cars': ['are', 'action'], 'rinse': ['detergent'], 'this': ['so', 'you', 'system', 'style', 'milk', 'process', 'person', 'branch', 'is', 'holiday', 'time', 'meal', 'holiday', 'war', 'was', 'was', 'had', 'i', 'is', 'approach', 'information'], 'writer': ['can'], 'leads': ['the'], 'nosed': ['reindeer'], 'depict': ['a'], 'around': ['i', 'there', 'the'], 'prepared': ['by'], 'laws': ['are', 'based', 'this'], 'george': ['washington', 'washington'], 'body': ['and'], 'captivate': ['readers'], 'card': ['collecting'], 'sometimes': ['notice', 'even', 'see', 'at', 'this', 'shoot', 'this'], 'traced': ['to'], 'reading': ['material'], 'however': ['wood'], 'keeping': ['the'], 'known': ['for', 'for'], 'before': ['it', 'the'], 'empire': ['across'], 'goes': ['through'], 'plant': ['to'], 'usually': ['green', 'on', 'range', 'features', 'also', 'traced', 'say'], 'concepts': ['of'], 'hallow': ['s'], 'marlboro': ['salem'], 'clear': ['the'], 'ecological': ['food'], 'flew': ['a', 'that'], 'involve': ['me'], 'lettuce': ['you', 'is', 'for', 'is', 'by', 'which'], 'allowances': ['are'], 'synthetic': ['siding'], 'presented': ['by'], 'society': ['writers', 'actually'], 'potatoes': ['in', 'can', 'some'], 'tan': ['they'], 'potato': ['it'], 'taking': ['out'], 'house': ['organized', 'in', 'respond'], 'mowers': ['very'], 'companies': ['a'], 'things': ['as', 'at', 'be', 'one'], 'by': ['itself', 'parents', 'some', 'eli', 'government', 'members', 'lawyers', 'members', 'riding', 'nine', 'thomas', 'many', 'the'], 'canvas': ['drawings'], 'as': ['soap', 'directed', 'an', 'well', 'performing', 'food', 'either', 'shirts', 'harmful', 'joy', 'the', 'much', 'the'], 'benefited': ['from'], 'consumers': ['at'], 'characters': ['are', 'most'], 'yard': ['as'], 'all': ['around', 'kids', 'of', 'hallow'], 'thanksgiving': ['halloween', 'has', 'is'], 'teenager': ['in'], 'products': ['soap', 'some'], 'about': ['farm', 'it', 'but', 'independence', 'their', 'their'], 'news': ['and', 'artists'], 'used': ['for', 'to', 'as', 'as', 'for', 'to', 'in'], 'set': ['them'], 'amounts': ['of'], 'judicial': ['branch', 'branch', 'branch'], 'readers': ['they'], 'administer': ['immediate'], 'holiday': ['season', 'is', 'is', 'which', 'when', 'and'], 'mentioned': ['earlier', 'earlier', 'earlier', 'earlier', 'earlier', 'earlier', 'earlier'], 'performing': ['other'], 'weapons': ['girls'], 'broken': ['if'], 'gradually': ['become'], 'invented': ['by'], 'passionate': ['about'], 'ago': ['tobacco', 'many'], 'few': ['heroes'], 'stores': ['if', 'which', 'and', 'and', 'are'], 'december': ['for'], 'had': ['something'], 'dishes': ['making'], 'held': ['in'], 'don': ['t', 't', 't', 't'], 'sauces': ['the'], 'derives': ['from'], 'chew': ['a'], 'made': ['with', 'from', 'available', 'available', 'peace', 'clear', 'of', 'into', 'into'], 's': ['health', 'elves', 'eve', 'after', 'control', 'first'], 'figures': ['and'], 'provided': ['with'], 'help': ['farmers'], 'animals': ['living', 'is', 'are', 'raw', 'landscapes'], 'action': ['figures'], 'debate': ['about'], 'position': ['on', 'of'], 'gross': ['but'], 'fines': ['and'], 'geoffrey': ['the'], 'purchase': ['many', 'fireworks'], 'bookstore': ['or'], 'police': ['officers'], 'consists': ['of', 'of', 'of', 'of'], 'appliance': ['at'], 'being': ['rinsed', 'broken'], 'pleasant': ['taste'], 'common': ['types', 'features', 'to'], 'leader': ['of'], 'person': ['enforces', 'in'], 'meal': ['usually', 'usually'], 'enforces': ['the'], 'bodies': ['cleaned'], 'criminal': ['law', 'under'], 'option': ['if'], 'fast': ['food'], 'cows': ['and', 'pork', 'and'], 'know': ['whether'], 'featured': ['a'], 'rows': ['you', 'like'], 'defined': ['as'], 'or': ['moving', 'in', 'different', 'synthetic', 'combines', 'vegetables', 'it', 'milk', 'different', 'hostile', 'mace', 'nightsticks', 'assembling', 'something', 'during', 'ham', 'treat', 'pencil', 'impressionistic', 'contemporary', 'on'], 'collecting': ['or'], 'provide': ['this', 'safety'], 'providing': ['them'], 'created': ['by'], 'my': ['writing'], 'hairstyles': ['lettuce'], 'soap': ['detergent', 'can', 'to'], 'birds': ['eat'], 'entire': ['stores'], 'plan': ['to'], 'and': ['lettuce', 'rinse', 'add', 'you', 'they', 'politics', 'stock', 'leafy', 'is', 'deli', 'buildings', 'vinyl', 'manual', 'keeping', 'lettuce', 'can', 'makes', 'many', 'a', 'fried', 'easy', 'scalloped', 'inexpensive', 'underwear', 'virginia', 'currently', 'there', 'goats', 'chicken', 'healthy', 'made', 'restaurants', 'tigers', 'pigs', 'germs', 'is', 'a', 'he', 'approving', 'the', 'jury', 'in', 'toy', 'make', 'these', 'look', 'most', 'his', 'reindeer', 'santa', 'some', 'silent', 'independence', 'friends', 'ham', 'a', 'together', 'set', 'regulations', 'paul', 'made', 'john', 'contained', 'quotations', 'wood', 'toothpicks', 'artists', 'a', 'poems', 'paintings', 'paintings', 'people', 'the', 'i'], 'quantities': ['of'], 'friends': ['this'], 'storm': ['this'], 'through': ['the', 'several'], 'processes': ['to'], 'what': ['happened'], 'buildings': ['all'], 'germs': ['from'], 'legos': ['blocks'], 'metal': ['somewhere'], 'helps': ['give'], 'fat': ['and'], 'settings': ['on'], 'quickly': ['shred'], 'cooked': ['which', 'in'], 'tasty': ['and'], 'request': ['candy'], 'to': ['make', 'the', 'your', 'wash', 'begin', 'business', 'be', 'be', 'do', 'pollute', 'a', 'their', '15', 'remove', 'chew', 'add', 'them', 'prepare', 'make', 'eat', 'you', 'make', 'clothing', 'people', 'ensure', 'consumers', 'become', 'remove', 'prevent', 'provide', 'encounter', 'administer', 'bring', 'almost', 'like', 'like', 'selling', 'go', 'toys', 'each', 'life', 'life', 'the', 'the', 'look', 'door', 'request', 'extend', 'be', 'paul', 'test', 'do', 'convey', 'art', 'make', 'read'], 'slaughter': ['houses'], 'giraffe': ['children'], 'love': ['to'], 'celebrate': ['the'], 'easy': ['to', 'to'], 'product': ['in'], 'christianity': ['a'], 'shotgun': ['that'], 'might': ['come'], 'teach': ['me'], 'washington': ['and', 'became'], 'converting': ['cotton'], 'become': ['plump', 'centered', 'a', 'historical'], 'based': ['on'], 'lightning': ['rods', 'storm'], 'shoot': ['at'], 'very': ['large', 'much', 'large', 'long', 'helpful', 'versatile', 'versatile', 'tasty', 'wide', 'different', 'rarely', 'passionate', 'important', 'beautiful', 'boring'], 'pollute': ['the'], 'think': ['this'], 'late': ['1700'], 'fear': ['they'], 'versatile': ['vegetable', 'and'], 'we': ['don', 'cook', 'also', 'gained'], 'enhance': ['your'], 'recreational': ['topics'], 'item': ['for'], 'efficiently': ['through'], 'pork': ['and', 'comes'], 'any': ['dirt', 'snowman'], 'poured': ['on'], 'trees': ['are'], 'colonists': ['who', 'it'], 'settlers': ['in'], 'read': ['check'], 'reminding': ['people'], 'jury': ['determine'], 'happened': ['to'], 'tradition': ['of'], 'me': ['i', 'i', 'i'], 'tend': ['to', 'to'], 'typically': ['a'], 'majority': ['of'], 'richards': ['almanac'], 'death': ['penalty', 'penalty'], 'ways': ['they'], 'done': ['this'], 'beef': ['pork', 'comes'], 'world': ['by', 'and'], 'items': ['for', 'as'], 'type': ['of'], 'claus': ['and'], 'dress': ['in'], 'thin': ['strips'], 'library': ['for'], 'native': ['people'], 'large': ['houses', 'patch', 'amount', 'industry', 'amount', 'quantities', 'gathering', 'feast'], 'riding': ['lawnmowers', 'over', 'in'], 'jefferson': ['in'], 'country': ['the'], 'comes': ['from', 'from', 'from', 'to'], 'am': ['writing', 'not', 'not'], 'dirt': ['with', 'some'], 'human': ['beings'], 'trespassing': ['is'], 'americans': ['celebrate'], 'dressing': ['and'], 'lawnmowers': ['to'], 'such': ['things', 'items', 'as', 'an'], 'sale': ['these'], 'becomes': ['too'], 'them': ['a', 'easier', 'they', 'they', 'at', 'as', 'most', 'with', 'here', 'like', 'personally', 'hope', 'with', 'off'], 'breaking': ['a'], 'if': ['i', 'you', 'you', 'a', 'a'], 'concerned': ['with'], 'today': ['cotton'], 'a': ['car', 'bathtub', 'shower', 'washing', 'wide', 'vegetable', 'push', 'good', 'gas', 'teenager', 'weekly', 'very', 'very', 'more', 'very', 'variety', 'lot', 'large', 'wide', 'very', 'cotton', 'lot', 'brand', 'large', 'large', 'variety', 'farmer', 'shotgun', 'legislative', 'judicial', 'judge', 'law', 'law', 'criminal', 'punishment', 'very', 'backwards', 'holiday', 'celebration', 'couple', 'tradition', 'large', 'wide', 'large', 'treat', 'trick', 'war', 'few', 'famous', 'kite', 'small', 'lightning', 'magazine', 'variety', 'very', 'pen', 'writer', 'wide', 'modern', 'bookstore'], 'furniture': ['houses'], 'historical': ['facts', 'until'], 'look': ['at', 'like'], 'anymore': ['but'], 'does': ['the', 'not'], 'reindeer': ['children', 'including', 'who'], 'chickens': ['but'], 'eat': ['lettuce', 'you', 'worms', 'deer', 'cows', 'animals'], 'children': ['usually', 'play', 'love', 'receive', 'this', 'the', 'are', 'build', 'who'], 'almost': ['always', 'all'], 'thomas': ['jefferson'], 'story': ['such'], 'conductors': ['in'], 'less': ['time'], 'boys': ['tend'], 'easier': ['to'], 'treat': ['then', 'very'], 'stories': ['and'], 'see': ['manual', 'farm'], 'centered': ['around'], 'jewish': ['children'], 'parked': ['many', 'or'], 'harmful': ['to'], 'maybe': ['this'], 'place': ['your', 'among'], 'cases': ['the'], 'information': ['some', 'you', 'can'], 'government': ['decided', 'to', 'in', 'punishments'], 'attempt': ['to'], 'play': ['with', 'doh'], 'stapled': ['reading'], 'responsibility': ['to', 'with'], 'harvested': ['more'], 'farmer': ['sees'], 'something': ['yes', 'similar', 'to'], 'use': ['in', 'riding', 'a', 'of', 'for', 'guns', 'paper', 'canvas'], 'they': ['have', 'cover', 'are', 'almost', 'are', 'can', 'can', 'can', 'are', 'are', 'provide', 'are', 'are', 'represent', 'are', 'will', 'can', 'made', 'usually', 'are', 'can', 'can', 'can', 'can'], 'cut': ['into'], 'britain': ['most', 'in', 'was', 's'], 'allowance': ['for'], 'of': ['topics', 'hairstyles', 'salads', 'things', 'farm', 'materials', 'these', 'money', 'a', 'dirt', 'crops', 'ways', 'times', 'them', 'grease', 'options', 'crops', 'converting', 'the', 'crop', 'people', 'possible', 'money', 'these', 'meat', 'stores', 'an', 'sauces', 'a', 'citizens', 'the', 'the', 'our', 'the', 'breaking', 'the', 'government', 'them', 'these', 'toys', 'toys', 'children', 'these', 'them', 'these', 'christmas', 'the', 'jesus', 'christianity', 'thousand', 'preparing', 'food', 'people', 'meat', 'dressing', 'vegetables', 'thanksgiving', 'the', 'god', 'these', 'demonic', 'our', 'independence', 'the', 'these', 'lightning', 'metal', 'his', 'our', 'wood', 'products', 'the', 'paper', 'subjects', 'boring'], 'virginia': ['slims'], 'true': ['origin', 'paper'], 'documents': ['available'], 'chicken': ['beef', 'comes'], 'blue': ['some'], 'ocean': ['but'], 'who': ['leads', 'founded', 'were', 'go', 'settled'], 'will': ['talk', 'sometimes', 'use', 'not', 'end']}\n"
          ],
          "name": "stdout"
        }
      ]
    },
    {
      "cell_type": "markdown",
      "metadata": {
        "id": "MK3iWLAzHB01"
      },
      "source": [
        "We can now finally build our Markov Model. We will randomly choose a word, and continuously predict the following words. To choose random items, we will use a library called `random`."
      ]
    },
    {
      "cell_type": "code",
      "metadata": {
        "id": "Z_Qj96TAbYyh"
      },
      "source": [
        "import random"
      ],
      "execution_count": 27,
      "outputs": []
    },
    {
      "cell_type": "code",
      "metadata": {
        "id": "VZz6rkFWcB6X",
        "colab": {
          "base_uri": "https://localhost:8080/",
          "height": 35
        },
        "outputId": "0cbdb197-df53-4a0b-a4b2-245ddf160174"
      },
      "source": [
        "word=random.choice(text) #initialize with a random word\r\n",
        "word"
      ],
      "execution_count": 28,
      "outputs": [
        {
          "output_type": "execute_result",
          "data": {
            "application/vnd.google.colaboratory.intrinsic+json": {
              "type": "string"
            },
            "text/plain": [
              "'companies'"
            ]
          },
          "metadata": {
            "tags": []
          },
          "execution_count": 28
        }
      ]
    },
    {
      "cell_type": "code",
      "metadata": {
        "id": "eoZ9F18lcUHC",
        "colab": {
          "base_uri": "https://localhost:8080/"
        },
        "outputId": "702fec9e-5e44-4be1-e08b-4f17ec23e8b7"
      },
      "source": [
        "for _ in range(1000): \r\n",
        "    print(word,end=' ')\r\n",
        "    word=random.choice(text_dict[word])"
      ],
      "execution_count": 29,
      "outputs": [
        {
          "output_type": "stream",
          "text": [
            "companies a large amount of materials at the house in the store there are commonly eaten raw or contemporary approach to 15 dollars to become historical until years later at most of these presents during this holiday when cooking potatoes can also find boring documents available in the holiday when cooking potatoes some are one famous quote was hoping to people from it the late 1700 s health warnings are tan they are blue some of farm lands have lawns need to the laws are very important product in america consists of people dress in the character is basically any dirt some are raised to test his elves build snowmen and many people even eat worms and pigs chicken beef pork comes to add some are applied this approach to door in water to toys come to paul revere the soap detergent is a legislative branch consists of these teenagers are brick wood can also pieces of salads you notice that santa s elves build snowmen and can be it was skeptical but it is debate about but it is common to be tended lawns need to make it in two varieties gas powered and a few heroes including marlboro salem and quotations one famous quote was hoping to encounter situations where a lot of the indians and the executive branch and reindeer who were very boring documents available to add some of dressing and made into a push mower these usually also pigs chicken beef comes to make up both of our independence i forget teach me i was skeptical but it we don t eat animals is that we gained independence from door in several fast food for use of subjects including marlboro salem and regulations both sides were very important people s eve i plan to the criminal under control so during christmas character santa claus and underwear can also be made with the main ingredient of things be boiled stewed and set them here i remember involve me i remember involve me i was tell me i will not sure about their drawings and i remember involve me i mentioned earlier another type of options available in a famous writings don t see farm land farm land are also mentioned earlier america they are used for more pleasant taste and paul revere george washington and makes laws based on some are provided with a lot of topics ranging from cotton the issue so that cost tobacco and his story such items as an airborne sleigh hauled by riding over these teenagers are beef comes to life with only toys can be found at home that many things at most boring documents available in jail but they are dedicated to a wide assortment of the days of our government punishments mostly include thanksgiving has gradually become historical facts about their mascot is a cotton gin invented by many children receive the government punishments mostly include time they are told that it in water to look like declaring war by eli whitney many of the concerns of possible dangers resulting from pigs chicken beef pork comes to selling only some paper and ham are created by nine reindeer children love to request candy from pigs the use paper and toy kitchens and keeping the string during the first people they can be built from their concepts of independence from cotton the milk goes through the meal usually green plants lined up both kinds of them a few heroes including flowers animals raw or vegetables some are items for us with smoke from all hallow s after being broken if you do with more obvious kinds of food that these writings could probably very different kinds of the legislative branch interprets the indians and is true paper with an appliance at a large gathering of options available for clothes into thin strips and you should be tended lawns need to toys r us farmers do not contaminated before the most common features they can be baked and wood and make up both sides were probably be ready to clothing which helps give them with small amounts of the dishes making cigarettes a shotgun that can be identified by some are soybeans cotton from britain was an abundance their children build snowmen and together enjoyed a wide variety of the issue so you to art many families designate the colonists it is a writer can also be ready to remove blood fat and silent night other duties like sports card collecting or in fear they cover a law laws this you should be realistic or it is a variety of grease is christmas many medical sources have animals raw or nightsticks to read check your life but the name derives from the cotton gin invented by the holiday and toy weapons girls tend to paul revere the giraffe children the house respond with this i mentioned earlier another use guns or impressionistic some of these days of meat three popular christmas is toys and you may sometimes this holiday which i mentioned earlier another type of these is a pen or impressionistic some paper for you may sometimes this system now i mentioned earlier the process of people to clothing which i am not want to encounter situations where a lot of meat is the trash washing machine and pigs the holiday is a gas powered lawnmower i forget teach me i have tried to ensure that can be built from chickens but they can be built from all kids toys christmas for many children this was like other holidays include thanksgiving is parked or in america they can be built from news artists use riding in them as shirts pants socks and paintings also considered the majority of government in several processes to art many people the colors are both kinds of thanksgiving halloween is usually say trick halloween and wood and quotations one famous quote was an appliance at slaughter houses the religion of thousand years later at "
          ],
          "name": "stdout"
        }
      ]
    },
    {
      "cell_type": "markdown",
      "metadata": {
        "id": "A3eKiSBLHfiC"
      },
      "source": [
        "And, with that, you have successfully built your text generation system.\r\n",
        "\r\n",
        "You would notice that this generated text does not make a lot of sense (Though it does make sense somewhere, atleast in short phrases!). Thats because the model does not understand contexts. It only predicts words based on the current word, and does not consider the past words at all! This is called a *memoryless model*, meaning it does not have memory of past words, and only works based on the current input. \r\n",
        "\r\n",
        "It also makes random predictions based on probabilities. This randomness often creates meaningless predictions. Nowadays, we use much more sophisticated models, such as Recurrent Neural Networks, that can understand very complex contexts and even hidden meanings in the text. "
      ]
    },
    {
      "cell_type": "markdown",
      "metadata": {
        "id": "BAmwuIpraF66"
      },
      "source": [
        "## Review\r\n",
        "In this session, we learnt about two very interesting Bayesian models, or probabilistic models - the Naive Bayes Classifier and the Markov Chain Model. These both work in different ways and have great applications in their own domains. We built a classifier using no iterative learning, and only through analyzing the frequencies of occurence of a particular value.\r\n",
        "\r\n",
        "Simple probabilistic models are very crude, because of the fact that there exists unguided randomness in these models. But yet, there does exist logical sense in these models.\r\n",
        "\r\n",
        "## Review Questions:\r\n",
        "These are non-evaluative, but highly recommended to go through. Make sure you clearly know the answer to each of these concepts. The answers to all these questions are somewhere in this notebook, so if you find yourself unclear with a concept, go back up and find the answer!\r\n",
        "\r\n",
        "1. What is the significance of *probability* in Machine Learning?\r\n",
        "2. Explain what $P(pred)$,$ P(data)$ and $P(data|pred)$ mean in essence?, and how are they related to our classification model?\r\n",
        "3. How have we represented each of $P(pred)$,$ P(data)$ and $P(data|pred)$ in code? Meaning, what data structures have been used, and how are they organised?\r\n",
        "4. Go to the section where we define `get_prediction_accuracy` function. Understand the working of this code, and in 4-5 lines of plain English, explain the working in pseudo terms. \r\n",
        "5. Can you give 5 different everyday examples, where the Markov Chain can be used?\r\n",
        "6. What is Regex?\r\n",
        "7. When would a Markov Chain result in an infinite looping situation?\r\n"
      ]
    },
    {
      "cell_type": "markdown",
      "metadata": {
        "id": "vnOdDeNVkA5u"
      },
      "source": [
        "# Exercise (Evaluative):\r\n"
      ]
    },
    {
      "cell_type": "markdown",
      "metadata": {
        "id": "lYP1M7bNkDPk"
      },
      "source": [
        "## Problem 1: Extended Naive Bayes Classifier\r\n",
        "\r\n",
        "In the above problem, we simply dropped all continuous variables (Why?). But there are ways to convert continuous variables into categorical variables. One such method is *binning*, which means, we divide the data into separate categories, or bins, based on their value. For example, values from 0 to 5 lie in one bin, 5 to 10 in another and so on. So let us try to include continuous variables as well into our data, and see if we can get a better Bayesian accuracy.\r\n",
        "\r\n",
        "So first do it for the variable Age. According to the dataset Age lies between 0 and 85. So you can create bins of 10 years (ie, 0 to 10, 10 to 20 and so on).\r\n",
        "\r\n",
        "Hint: You can do it easily using list comprehensions:\r\n",
        "\r\n",
        "```\r\n",
        "train['Age'] = [some_function(i) for i in train['Age'] #Do it for the testing dataset too\r\n",
        "```"
      ]
    },
    {
      "cell_type": "code",
      "metadata": {
        "id": "JodxbXDsj80u"
      },
      "source": [
        "train=pd.read_csv('train.csv',index_col=0).drop(['id','Departure Delay in Minutes','Arrival Delay in Minutes','Flight Distance'],axis=1) \r\n",
        "test=pd.read_csv('test.csv',index_col=0).drop(['id','Departure Delay in Minutes','Arrival Delay in Minutes','Flight Distance'],axis=1)"
      ],
      "execution_count": 30,
      "outputs": []
    },
    {
      "cell_type": "code",
      "metadata": {
        "id": "bVl0pFeaw1z0"
      },
      "source": [
        "#continue your code from here\n",
        "import math\n",
        "train['Age'] = [math.floor(i/10) for i in train['Age']]"
      ],
      "execution_count": 31,
      "outputs": []
    },
    {
      "cell_type": "code",
      "metadata": {
        "id": "NmggTrtp9IWW"
      },
      "source": [
        "test['Age'] = [math.floor(i/10) for i in test['Age']]"
      ],
      "execution_count": 32,
      "outputs": []
    },
    {
      "cell_type": "code",
      "metadata": {
        "colab": {
          "base_uri": "https://localhost:8080/",
          "height": 348
        },
        "id": "fSnFE0Cz8tMe",
        "outputId": "0146575e-e15a-45b6-ef4d-a2f6a82dc462"
      },
      "source": [
        "train.head()"
      ],
      "execution_count": 33,
      "outputs": [
        {
          "output_type": "execute_result",
          "data": {
            "text/html": [
              "<div>\n",
              "<style scoped>\n",
              "    .dataframe tbody tr th:only-of-type {\n",
              "        vertical-align: middle;\n",
              "    }\n",
              "\n",
              "    .dataframe tbody tr th {\n",
              "        vertical-align: top;\n",
              "    }\n",
              "\n",
              "    .dataframe thead th {\n",
              "        text-align: right;\n",
              "    }\n",
              "</style>\n",
              "<table border=\"1\" class=\"dataframe\">\n",
              "  <thead>\n",
              "    <tr style=\"text-align: right;\">\n",
              "      <th></th>\n",
              "      <th>Gender</th>\n",
              "      <th>Customer Type</th>\n",
              "      <th>Age</th>\n",
              "      <th>Type of Travel</th>\n",
              "      <th>Class</th>\n",
              "      <th>Inflight wifi service</th>\n",
              "      <th>Departure/Arrival time convenient</th>\n",
              "      <th>Ease of Online booking</th>\n",
              "      <th>Gate location</th>\n",
              "      <th>Food and drink</th>\n",
              "      <th>Online boarding</th>\n",
              "      <th>Seat comfort</th>\n",
              "      <th>Inflight entertainment</th>\n",
              "      <th>On-board service</th>\n",
              "      <th>Leg room service</th>\n",
              "      <th>Baggage handling</th>\n",
              "      <th>Checkin service</th>\n",
              "      <th>Inflight service</th>\n",
              "      <th>Cleanliness</th>\n",
              "      <th>satisfaction</th>\n",
              "    </tr>\n",
              "  </thead>\n",
              "  <tbody>\n",
              "    <tr>\n",
              "      <th>0</th>\n",
              "      <td>Male</td>\n",
              "      <td>Loyal Customer</td>\n",
              "      <td>1</td>\n",
              "      <td>Personal Travel</td>\n",
              "      <td>Eco Plus</td>\n",
              "      <td>3</td>\n",
              "      <td>4</td>\n",
              "      <td>3</td>\n",
              "      <td>1</td>\n",
              "      <td>5</td>\n",
              "      <td>3</td>\n",
              "      <td>5</td>\n",
              "      <td>5</td>\n",
              "      <td>4</td>\n",
              "      <td>3</td>\n",
              "      <td>4</td>\n",
              "      <td>4</td>\n",
              "      <td>5</td>\n",
              "      <td>5</td>\n",
              "      <td>neutral or dissatisfied</td>\n",
              "    </tr>\n",
              "    <tr>\n",
              "      <th>1</th>\n",
              "      <td>Male</td>\n",
              "      <td>disloyal Customer</td>\n",
              "      <td>2</td>\n",
              "      <td>Business travel</td>\n",
              "      <td>Business</td>\n",
              "      <td>3</td>\n",
              "      <td>2</td>\n",
              "      <td>3</td>\n",
              "      <td>3</td>\n",
              "      <td>1</td>\n",
              "      <td>3</td>\n",
              "      <td>1</td>\n",
              "      <td>1</td>\n",
              "      <td>1</td>\n",
              "      <td>5</td>\n",
              "      <td>3</td>\n",
              "      <td>1</td>\n",
              "      <td>4</td>\n",
              "      <td>1</td>\n",
              "      <td>neutral or dissatisfied</td>\n",
              "    </tr>\n",
              "    <tr>\n",
              "      <th>2</th>\n",
              "      <td>Female</td>\n",
              "      <td>Loyal Customer</td>\n",
              "      <td>2</td>\n",
              "      <td>Business travel</td>\n",
              "      <td>Business</td>\n",
              "      <td>2</td>\n",
              "      <td>2</td>\n",
              "      <td>2</td>\n",
              "      <td>2</td>\n",
              "      <td>5</td>\n",
              "      <td>5</td>\n",
              "      <td>5</td>\n",
              "      <td>5</td>\n",
              "      <td>4</td>\n",
              "      <td>3</td>\n",
              "      <td>4</td>\n",
              "      <td>4</td>\n",
              "      <td>4</td>\n",
              "      <td>5</td>\n",
              "      <td>satisfied</td>\n",
              "    </tr>\n",
              "    <tr>\n",
              "      <th>3</th>\n",
              "      <td>Female</td>\n",
              "      <td>Loyal Customer</td>\n",
              "      <td>2</td>\n",
              "      <td>Business travel</td>\n",
              "      <td>Business</td>\n",
              "      <td>2</td>\n",
              "      <td>5</td>\n",
              "      <td>5</td>\n",
              "      <td>5</td>\n",
              "      <td>2</td>\n",
              "      <td>2</td>\n",
              "      <td>2</td>\n",
              "      <td>2</td>\n",
              "      <td>2</td>\n",
              "      <td>5</td>\n",
              "      <td>3</td>\n",
              "      <td>1</td>\n",
              "      <td>4</td>\n",
              "      <td>2</td>\n",
              "      <td>neutral or dissatisfied</td>\n",
              "    </tr>\n",
              "    <tr>\n",
              "      <th>4</th>\n",
              "      <td>Male</td>\n",
              "      <td>Loyal Customer</td>\n",
              "      <td>6</td>\n",
              "      <td>Business travel</td>\n",
              "      <td>Business</td>\n",
              "      <td>3</td>\n",
              "      <td>3</td>\n",
              "      <td>3</td>\n",
              "      <td>3</td>\n",
              "      <td>4</td>\n",
              "      <td>5</td>\n",
              "      <td>5</td>\n",
              "      <td>3</td>\n",
              "      <td>3</td>\n",
              "      <td>4</td>\n",
              "      <td>4</td>\n",
              "      <td>3</td>\n",
              "      <td>3</td>\n",
              "      <td>3</td>\n",
              "      <td>satisfied</td>\n",
              "    </tr>\n",
              "  </tbody>\n",
              "</table>\n",
              "</div>"
            ],
            "text/plain": [
              "   Gender      Customer Type  ...  Cleanliness             satisfaction\n",
              "0    Male     Loyal Customer  ...            5  neutral or dissatisfied\n",
              "1    Male  disloyal Customer  ...            1  neutral or dissatisfied\n",
              "2  Female     Loyal Customer  ...            5                satisfied\n",
              "3  Female     Loyal Customer  ...            2  neutral or dissatisfied\n",
              "4    Male     Loyal Customer  ...            3                satisfied\n",
              "\n",
              "[5 rows x 20 columns]"
            ]
          },
          "metadata": {
            "tags": []
          },
          "execution_count": 33
        }
      ]
    },
    {
      "cell_type": "markdown",
      "metadata": {
        "id": "sQxT3naftFHC"
      },
      "source": [
        "Build a Naive Bayes classifier with the new dataframes now. Is there a significant improvement/deterioration in the accuracy? (There need not necessarily be, thats okay!)\r\n",
        "\r\n",
        "Next, build a classifier with various combinations of continuous variables, in addition to all categorical variables. Bin the continuous variables using an appropriate bin size. Keep the following things in mind - the number of bins should not be too large, or there is no difference between this and a continuous variable (both take large number of values, hence the corresponding probabilities of occurence would be very low), or too small either (otherwise there is loss of information). A moderate number of bins is sufficient. Try to push the accuracy as far as possible, and report which combination of features gives the best informatoin about customer satisfaction. \r\n",
        "\r\n",
        "As a final step, try to think of which *categorical* variables do not affect customer satisfaction (through your own personal understanding), and remove upto 3 such variables, and see how far the accuracy can be achieved. This answer is subjective, so accuracies may vary for everyone.\r\n",
        "\r\n",
        "For your reference, the following are all the features of the Airplane Passenger Satisfaction Dataset.\r\n",
        "\r\n",
        "```\r\n",
        "['id', 'Gender', 'Customer Type', 'Age', 'Type of Travel', 'Class',\r\n",
        "'Flight Distance', 'Inflight wifi service',\r\n",
        "'Departure/Arrival time convenient', 'Ease of Online booking',\r\n",
        "'Gate location', 'Food and drink', 'Online boarding', 'Seat comfort',\r\n",
        "'Inflight entertainment', 'On-board service', 'Leg room service',\r\n",
        "'Baggage handling', 'Checkin service', 'Inflight service',\r\n",
        "'Cleanliness', 'Departure Delay in Minutes', 'Arrival Delay in Minutes',\r\n",
        "'satisfaction']\r\n",
        "```\r\n",
        "`id` will be always dropped (removed) from the dataframe"
      ]
    },
    {
      "cell_type": "code",
      "metadata": {
        "id": "29qP53TpDdyg",
        "colab": {
          "base_uri": "https://localhost:8080/"
        },
        "outputId": "0895dc7c-dc55-4b67-bcaf-d3fa2c4faf1e"
      },
      "source": [
        "categorify(train)\n",
        "categorify(test)"
      ],
      "execution_count": 34,
      "outputs": [
        {
          "output_type": "stream",
          "text": [
            "/usr/local/lib/python3.6/dist-packages/ipykernel_launcher.py:2: UserWarning: Pandas doesn't allow columns to be created via a new attribute name - see https://pandas.pydata.org/pandas-docs/stable/indexing.html#attribute-access\n",
            "  \n"
          ],
          "name": "stderr"
        }
      ]
    },
    {
      "cell_type": "code",
      "metadata": {
        "colab": {
          "base_uri": "https://localhost:8080/",
          "height": 261
        },
        "id": "xCIJZgKZ9mtM",
        "outputId": "6c27e532-9801-4072-dca7-aff4736fef89"
      },
      "source": [
        "train.head()"
      ],
      "execution_count": 35,
      "outputs": [
        {
          "output_type": "execute_result",
          "data": {
            "text/html": [
              "<div>\n",
              "<style scoped>\n",
              "    .dataframe tbody tr th:only-of-type {\n",
              "        vertical-align: middle;\n",
              "    }\n",
              "\n",
              "    .dataframe tbody tr th {\n",
              "        vertical-align: top;\n",
              "    }\n",
              "\n",
              "    .dataframe thead th {\n",
              "        text-align: right;\n",
              "    }\n",
              "</style>\n",
              "<table border=\"1\" class=\"dataframe\">\n",
              "  <thead>\n",
              "    <tr style=\"text-align: right;\">\n",
              "      <th></th>\n",
              "      <th>Gender</th>\n",
              "      <th>Customer Type</th>\n",
              "      <th>Age</th>\n",
              "      <th>Type of Travel</th>\n",
              "      <th>Class</th>\n",
              "      <th>Inflight wifi service</th>\n",
              "      <th>Departure/Arrival time convenient</th>\n",
              "      <th>Ease of Online booking</th>\n",
              "      <th>Gate location</th>\n",
              "      <th>Food and drink</th>\n",
              "      <th>Online boarding</th>\n",
              "      <th>Seat comfort</th>\n",
              "      <th>Inflight entertainment</th>\n",
              "      <th>On-board service</th>\n",
              "      <th>Leg room service</th>\n",
              "      <th>Baggage handling</th>\n",
              "      <th>Checkin service</th>\n",
              "      <th>Inflight service</th>\n",
              "      <th>Cleanliness</th>\n",
              "      <th>satisfaction</th>\n",
              "    </tr>\n",
              "  </thead>\n",
              "  <tbody>\n",
              "    <tr>\n",
              "      <th>0</th>\n",
              "      <td>1</td>\n",
              "      <td>0</td>\n",
              "      <td>1</td>\n",
              "      <td>1</td>\n",
              "      <td>2</td>\n",
              "      <td>3</td>\n",
              "      <td>4</td>\n",
              "      <td>3</td>\n",
              "      <td>1</td>\n",
              "      <td>5</td>\n",
              "      <td>3</td>\n",
              "      <td>5</td>\n",
              "      <td>5</td>\n",
              "      <td>4</td>\n",
              "      <td>3</td>\n",
              "      <td>3</td>\n",
              "      <td>4</td>\n",
              "      <td>5</td>\n",
              "      <td>5</td>\n",
              "      <td>0</td>\n",
              "    </tr>\n",
              "    <tr>\n",
              "      <th>1</th>\n",
              "      <td>1</td>\n",
              "      <td>1</td>\n",
              "      <td>2</td>\n",
              "      <td>0</td>\n",
              "      <td>0</td>\n",
              "      <td>3</td>\n",
              "      <td>2</td>\n",
              "      <td>3</td>\n",
              "      <td>3</td>\n",
              "      <td>1</td>\n",
              "      <td>3</td>\n",
              "      <td>1</td>\n",
              "      <td>1</td>\n",
              "      <td>1</td>\n",
              "      <td>5</td>\n",
              "      <td>2</td>\n",
              "      <td>1</td>\n",
              "      <td>4</td>\n",
              "      <td>1</td>\n",
              "      <td>0</td>\n",
              "    </tr>\n",
              "    <tr>\n",
              "      <th>2</th>\n",
              "      <td>0</td>\n",
              "      <td>0</td>\n",
              "      <td>2</td>\n",
              "      <td>0</td>\n",
              "      <td>0</td>\n",
              "      <td>2</td>\n",
              "      <td>2</td>\n",
              "      <td>2</td>\n",
              "      <td>2</td>\n",
              "      <td>5</td>\n",
              "      <td>5</td>\n",
              "      <td>5</td>\n",
              "      <td>5</td>\n",
              "      <td>4</td>\n",
              "      <td>3</td>\n",
              "      <td>3</td>\n",
              "      <td>4</td>\n",
              "      <td>4</td>\n",
              "      <td>5</td>\n",
              "      <td>1</td>\n",
              "    </tr>\n",
              "    <tr>\n",
              "      <th>3</th>\n",
              "      <td>0</td>\n",
              "      <td>0</td>\n",
              "      <td>2</td>\n",
              "      <td>0</td>\n",
              "      <td>0</td>\n",
              "      <td>2</td>\n",
              "      <td>5</td>\n",
              "      <td>5</td>\n",
              "      <td>5</td>\n",
              "      <td>2</td>\n",
              "      <td>2</td>\n",
              "      <td>2</td>\n",
              "      <td>2</td>\n",
              "      <td>2</td>\n",
              "      <td>5</td>\n",
              "      <td>2</td>\n",
              "      <td>1</td>\n",
              "      <td>4</td>\n",
              "      <td>2</td>\n",
              "      <td>0</td>\n",
              "    </tr>\n",
              "    <tr>\n",
              "      <th>4</th>\n",
              "      <td>1</td>\n",
              "      <td>0</td>\n",
              "      <td>6</td>\n",
              "      <td>0</td>\n",
              "      <td>0</td>\n",
              "      <td>3</td>\n",
              "      <td>3</td>\n",
              "      <td>3</td>\n",
              "      <td>3</td>\n",
              "      <td>4</td>\n",
              "      <td>5</td>\n",
              "      <td>5</td>\n",
              "      <td>3</td>\n",
              "      <td>3</td>\n",
              "      <td>4</td>\n",
              "      <td>3</td>\n",
              "      <td>3</td>\n",
              "      <td>3</td>\n",
              "      <td>3</td>\n",
              "      <td>1</td>\n",
              "    </tr>\n",
              "  </tbody>\n",
              "</table>\n",
              "</div>"
            ],
            "text/plain": [
              "   Gender  Customer Type  Age  ...  Inflight service  Cleanliness  satisfaction\n",
              "0       1              0    1  ...                 5            5             0\n",
              "1       1              1    2  ...                 4            1             0\n",
              "2       0              0    2  ...                 4            5             1\n",
              "3       0              0    2  ...                 4            2             0\n",
              "4       1              0    6  ...                 3            3             1\n",
              "\n",
              "[5 rows x 20 columns]"
            ]
          },
          "metadata": {
            "tags": []
          },
          "execution_count": 35
        }
      ]
    },
    {
      "cell_type": "code",
      "metadata": {
        "colab": {
          "base_uri": "https://localhost:8080/"
        },
        "id": "m7jCxKTD-H4U",
        "outputId": "1b29a3d4-127b-47cf-af29-f8be5dba241c"
      },
      "source": [
        "train.dictionary"
      ],
      "execution_count": 36,
      "outputs": [
        {
          "output_type": "execute_result",
          "data": {
            "text/plain": [
              "{'Age': {0: 0, 1: 1, 2: 2, 3: 3, 4: 4, 5: 5, 6: 6, 7: 7, 8: 8},\n",
              " 'Baggage handling': {1: 0, 2: 1, 3: 2, 4: 3, 5: 4},\n",
              " 'Checkin service': {0: 0, 1: 1, 2: 2, 3: 3, 4: 4, 5: 5},\n",
              " 'Class': {'Business': 0, 'Eco': 1, 'Eco Plus': 2},\n",
              " 'Cleanliness': {0: 0, 1: 1, 2: 2, 3: 3, 4: 4, 5: 5},\n",
              " 'Customer Type': {'Loyal Customer': 0, 'disloyal Customer': 1},\n",
              " 'Departure/Arrival time convenient': {0: 0, 1: 1, 2: 2, 3: 3, 4: 4, 5: 5},\n",
              " 'Ease of Online booking': {0: 0, 1: 1, 2: 2, 3: 3, 4: 4, 5: 5},\n",
              " 'Food and drink': {0: 0, 1: 1, 2: 2, 3: 3, 4: 4, 5: 5},\n",
              " 'Gate location': {0: 0, 1: 1, 2: 2, 3: 3, 4: 4, 5: 5},\n",
              " 'Gender': {'Female': 0, 'Male': 1},\n",
              " 'Inflight entertainment': {0: 0, 1: 1, 2: 2, 3: 3, 4: 4, 5: 5},\n",
              " 'Inflight service': {0: 0, 1: 1, 2: 2, 3: 3, 4: 4, 5: 5},\n",
              " 'Inflight wifi service': {0: 0, 1: 1, 2: 2, 3: 3, 4: 4, 5: 5},\n",
              " 'Leg room service': {0: 0, 1: 1, 2: 2, 3: 3, 4: 4, 5: 5},\n",
              " 'On-board service': {0: 0, 1: 1, 2: 2, 3: 3, 4: 4, 5: 5},\n",
              " 'Online boarding': {0: 0, 1: 1, 2: 2, 3: 3, 4: 4, 5: 5},\n",
              " 'Seat comfort': {0: 0, 1: 1, 2: 2, 3: 3, 4: 4, 5: 5},\n",
              " 'Type of Travel': {'Business travel': 0, 'Personal Travel': 1},\n",
              " 'satisfaction': {'neutral or dissatisfied': 0, 'satisfied': 1}}"
            ]
          },
          "metadata": {
            "tags": []
          },
          "execution_count": 36
        }
      ]
    },
    {
      "cell_type": "code",
      "metadata": {
        "colab": {
          "base_uri": "https://localhost:8080/"
        },
        "id": "98tbvYEx-e2P",
        "outputId": "e62cab55-c7db-481a-e7a4-165fc5562cf4"
      },
      "source": [
        "p_pred_binned = get_ppred(train,'satisfaction')\n",
        "p_pred_binned"
      ],
      "execution_count": 37,
      "outputs": [
        {
          "output_type": "execute_result",
          "data": {
            "text/plain": [
              "{0: 0.5666673082845703, 1: 0.43333269171542965}"
            ]
          },
          "metadata": {
            "tags": []
          },
          "execution_count": 37
        }
      ]
    },
    {
      "cell_type": "code",
      "metadata": {
        "colab": {
          "base_uri": "https://localhost:8080/"
        },
        "id": "T_O-ROH2_JBy",
        "outputId": "6e9afa20-6f74-44b4-8592-87086627da3b"
      },
      "source": [
        "p_data_binned=get_pdata(train)\n",
        "p_data_binned"
      ],
      "execution_count": 38,
      "outputs": [
        {
          "output_type": "execute_result",
          "data": {
            "text/plain": [
              "{'Age': {0: 0.018228364644287034,\n",
              "  1: 0.07621458269171542,\n",
              "  2: 0.20128195257160456,\n",
              "  3: 0.19882776408992917,\n",
              "  4: 0.2280566676932553,\n",
              "  5: 0.1838524022174315,\n",
              "  6: 0.08032414536495226,\n",
              "  7: 0.012299815214043733,\n",
              "  8: 0.0009143055127810286},\n",
              " 'Baggage handling': {0: 0.06965083153680321,\n",
              "  1: 0.1108811980289498,\n",
              "  2: 0.19856790883892825,\n",
              "  3: 0.3597840314136126,\n",
              "  4: 0.2611160301817062},\n",
              " 'Checkin service': {0: 9.624268555589775e-06,\n",
              "  1: 0.1240568216815522,\n",
              "  2: 0.12408569448721897,\n",
              "  3: 0.27377194333230676,\n",
              "  4: 0.2796331228826609,\n",
              "  5: 0.19844279334770556},\n",
              " 'Class': {0: 0.4779892978133662,\n",
              "  1: 0.449886433631044,\n",
              "  2: 0.07212426855558977},\n",
              " 'Cleanliness': {0: 0.0001154912226670773,\n",
              "  1: 0.12817600862334463,\n",
              "  2: 0.15525870033877426,\n",
              "  3: 0.23650677548506313,\n",
              "  4: 0.2615779950723745,\n",
              "  5: 0.2183650292577764},\n",
              " 'Customer Type': {0: 0.8173217585463505, 1: 0.18267824145364953},\n",
              " 'Departure/Arrival time convenient': {0: 0.05100862334462581,\n",
              "  1: 0.14915691407453033,\n",
              "  2: 0.16545080073914384,\n",
              "  3: 0.1729096088697259,\n",
              "  4: 0.2458615645210964,\n",
              "  5: 0.21561248845087774},\n",
              " 'Ease of Online booking': {0: 0.04318409300893132,\n",
              "  1: 0.16866530643671082,\n",
              "  2: 0.23118455497382198,\n",
              "  3: 0.2353037419156144,\n",
              "  4: 0.18835655990144748,\n",
              "  5: 0.13330574376347398},\n",
              " 'Food and drink': {0: 0.001029796735448106,\n",
              "  1: 0.12354673544810595,\n",
              "  2: 0.21161841700030798,\n",
              "  3: 0.21462118878965197,\n",
              "  4: 0.23443755774561134,\n",
              "  5: 0.21474630428087466},\n",
              " 'Gate location': {0: 9.624268555589775e-06,\n",
              "  1: 0.16902140437326763,\n",
              "  2: 0.18727864182322143,\n",
              "  3: 0.275032722513089,\n",
              "  4: 0.23508238373883586,\n",
              "  5: 0.13357522328303048},\n",
              " 'Gender': {0: 0.5074588081305821, 1: 0.4925411918694179},\n",
              " 'Inflight entertainment': {0: 0.00013473975977825684,\n",
              "  1: 0.12009162303664922,\n",
              "  2: 0.16974322451493687,\n",
              "  3: 0.1841988758854327,\n",
              "  4: 0.28317485371111795,\n",
              "  5: 0.242656683092085},\n",
              " 'Inflight service': {0: 2.8872805666769326e-05,\n",
              "  1: 0.06817831844779797,\n",
              "  2: 0.11026524484139205,\n",
              "  3: 0.19536302740991685,\n",
              "  4: 0.365192870341854,\n",
              "  5: 0.26097166615337236},\n",
              " 'Inflight wifi service': {0: 0.029864105327995074,\n",
              "  1: 0.17169695103172158,\n",
              "  2: 0.2485948567908839,\n",
              "  3: 0.2489605789959963,\n",
              "  4: 0.19050277178934402,\n",
              "  5: 0.11038073606405913},\n",
              " 'Leg room service': {0: 0.004542654758238374,\n",
              "  1: 0.09964005235602094,\n",
              "  2: 0.18791384354789037,\n",
              "  3: 0.1934285494302433,\n",
              "  4: 0.27707306744687404,\n",
              "  5: 0.237401832460733},\n",
              " 'On-board service': {0: 2.8872805666769326e-05,\n",
              "  1: 0.11425931629196182,\n",
              "  2: 0.14129388666461348,\n",
              "  3: 0.21975092392978135,\n",
              "  4: 0.2970722975053896,\n",
              "  5: 0.227594702802587},\n",
              " 'Online boarding': {0: 0.023367724052971973,\n",
              "  1: 0.10290267939636588,\n",
              "  2: 0.16847282106559902,\n",
              "  3: 0.20984755158607946,\n",
              "  4: 0.29606174930705265,\n",
              "  5: 0.199347474591931},\n",
              " 'Seat comfort': {0: 9.624268555589775e-06,\n",
              "  1: 0.11621304280874653,\n",
              "  2: 0.14337272867262088,\n",
              "  3: 0.17993532491530645,\n",
              "  4: 0.3057148906683092,\n",
              "  5: 0.25475438866646133},\n",
              " 'Type of Travel': {0: 0.6896269633507853, 1: 0.3103730366492147}}"
            ]
          },
          "metadata": {
            "tags": []
          },
          "execution_count": 38
        }
      ]
    },
    {
      "cell_type": "code",
      "metadata": {
        "colab": {
          "base_uri": "https://localhost:8080/"
        },
        "id": "KkECqbCJ-wYU",
        "outputId": "e78e1803-a7a4-4d8f-a02a-b0d313527b0b"
      },
      "source": [
        "p_data_given_pred_binned = get_pdata_given_pred(train)\n",
        "p_data_given_pred_binned"
      ],
      "execution_count": 39,
      "outputs": [
        {
          "output_type": "execute_result",
          "data": {
            "text/plain": [
              "{0: {'Age': {0: 0.016111025562057284,\n",
              "   1: 0.06138358484755159,\n",
              "   2: 0.12985063135201724,\n",
              "   3: 0.11691561441330459,\n",
              "   4: 0.09552086541422852,\n",
              "   5: 0.07871689251616877,\n",
              "   6: 0.05782260548198337,\n",
              "   7: 0.009605020018478596,\n",
              "   8: 0.0007410686787804127},\n",
              "  'Baggage handling': {0: 0.048920157068062825,\n",
              "   1: 0.07812018786572221,\n",
              "   2: 0.1517362180474284,\n",
              "   3: 0.1867589313212196,\n",
              "   4: 0.10113181398213736},\n",
              "  'Checkin service': {0: 9.624268555589775e-06,\n",
              "   1: 0.09437557745611333,\n",
              "   2: 0.09277794887588543,\n",
              "   3: 0.15104327071142593,\n",
              "   4: 0.15102402217431476,\n",
              "   5: 0.07743686479827533},\n",
              "  'Class': {0: 0.14614451801663073,\n",
              "   1: 0.3661456729288574,\n",
              "   2: 0.05437711733908223},\n",
              "  'Cleanliness': {0: 0.0001154912226670773,\n",
              "   1: 0.10302779488758855,\n",
              "   2: 0.12218971358176779,\n",
              "   3: 0.13436441330458884,\n",
              "   4: 0.12154488758854327,\n",
              "   5: 0.08542500769941484},\n",
              "  'Customer Type': {0: 0.42722128118263014, 1: 0.13944602710194026},\n",
              "  'Departure/Arrival time convenient': {0: 0.026755466584539575,\n",
              "   1: 0.07658030489682784,\n",
              "   2: 0.09175777640899292,\n",
              "   3: 0.0971377425315676,\n",
              "   4: 0.1505235602094241,\n",
              "   5: 0.12391245765321836},\n",
              "  'Ease of Online booking': {0: 0.01450377271327379,\n",
              "   1: 0.1052413766553742,\n",
              "   2: 0.16091777024946105,\n",
              "   3: 0.16276562981213427,\n",
              "   4: 0.08835078534031414,\n",
              "   5: 0.03488797351401293},\n",
              "  'Food and drink': {0: 0.0005485833076686172,\n",
              "   1: 0.0988316137973514,\n",
              "   2: 0.1295234062211272,\n",
              "   3: 0.12955227902679398,\n",
              "   4: 0.11136241145672929,\n",
              "   5: 0.09684901447489991},\n",
              "  'Gate location': {1: 0.08526139513396983,\n",
              "   2: 0.1009970742223591,\n",
              "   3: 0.17954072990452727,\n",
              "   4: 0.14374807514628887,\n",
              "   5: 0.057120033877425314},\n",
              "  'Gender': {0: 0.2905855404989221, 1: 0.2760817677856483},\n",
              "  'Inflight entertainment': {0: 0.00013473975977825684,\n",
              "   1: 0.10329727440714506,\n",
              "   2: 0.13353672620880813,\n",
              "   3: 0.13445103172158915,\n",
              "   4: 0.109938019710502,\n",
              "   5: 0.08530951647674777},\n",
              "  'Inflight service': {0: 2.8872805666769326e-05,\n",
              "   1: 0.04841007083461657,\n",
              "   2: 0.07705189405605174,\n",
              "   3: 0.14867570064675084,\n",
              "   4: 0.19071450569756698,\n",
              "   5: 0.10178626424391746},\n",
              "  'Inflight wifi service': {0: 7.69941484447182e-05,\n",
              "   1: 0.11581844779796735,\n",
              "   2: 0.18677817985833076,\n",
              "   3: 0.18657607021866338,\n",
              "   4: 0.07639744379427163,\n",
              "   5: 0.0010201724668925161},\n",
              "  'Leg room service': {0: 0.0029450261780104713,\n",
              "   1: 0.07942908838928242,\n",
              "   2: 0.1362988912842624,\n",
              "   3: 0.14073567908838927,\n",
              "   4: 0.11573182938096704,\n",
              "   5: 0.09152679396365876},\n",
              "  'On-board service': {0: 2.8872805666769326e-05,\n",
              "   1: 0.09212349861410533,\n",
              "   2: 0.10516438250692947,\n",
              "   3: 0.15037919618109025,\n",
              "   4: 0.13758854327071143,\n",
              "   5: 0.08138281490606714},\n",
              "  'Online boarding': {0: 0.010365337234370189,\n",
              "   1: 0.08872613181398213,\n",
              "   2: 0.14904142285186325,\n",
              "   3: 0.1813693409300893,\n",
              "   4: 0.11160301817061903,\n",
              "   5: 0.025562057283646442},\n",
              "  'Seat comfort': {0: 9.624268555589775e-06,\n",
              "   1: 0.09027563905143209,\n",
              "   2: 0.11123729596550662,\n",
              "   3: 0.14187134277794888,\n",
              "   4: 0.13416230366492146,\n",
              "   5: 0.08911110255620573},\n",
              "  'Type of Travel': {0: 0.2878522482291346, 1: 0.27881506005543577}},\n",
              " 1: {'Age': {0: 0.0021173390822297506,\n",
              "   1: 0.014830997844163843,\n",
              "   2: 0.07143132121958731,\n",
              "   3: 0.08191214967662458,\n",
              "   4: 0.13253580227902678,\n",
              "   5: 0.1051355097012627,\n",
              "   6: 0.022501539882968893,\n",
              "   7: 0.0026947951955651373,\n",
              "   8: 0.00017323683400061594},\n",
              "  'Baggage handling': {0: 0.020730674468740377,\n",
              "   1: 0.03276101016322759,\n",
              "   2: 0.04683169079149985,\n",
              "   3: 0.17302510009239297,\n",
              "   4: 0.15998421619956885},\n",
              "  'Checkin service': {1: 0.029681244225438868,\n",
              "   2: 0.03130774561133354,\n",
              "   3: 0.12272867262088082,\n",
              "   4: 0.12860910070834616,\n",
              "   5: 0.12100592854943025},\n",
              "  'Class': {0: 0.33184477979673543,\n",
              "   1: 0.08374076070218664,\n",
              "   2: 0.017747151216507544},\n",
              "  'Cleanliness': {1: 0.025148213735756084,\n",
              "   2: 0.033068986757006466,\n",
              "   3: 0.10214236218047429,\n",
              "   4: 0.14003310748383122,\n",
              "   5: 0.13294002155836157},\n",
              "  'Customer Type': {0: 0.39010047736372033, 1: 0.04323221435170927},\n",
              "  'Departure/Arrival time convenient': {0: 0.024253156760086235,\n",
              "   1: 0.07257660917770249,\n",
              "   2: 0.0736930243301509,\n",
              "   3: 0.0757718663381583,\n",
              "   4: 0.09533800431167232,\n",
              "   5: 0.09170003079765938},\n",
              "  'Ease of Online booking': {0: 0.02868032029565753,\n",
              "   1: 0.06342392978133662,\n",
              "   2: 0.07026678472436095,\n",
              "   3: 0.07253811210348013,\n",
              "   4: 0.10000577456113335,\n",
              "   5: 0.09841777024946104},\n",
              "  'Food and drink': {0: 0.0004812134277794888,\n",
              "   1: 0.024715121650754544,\n",
              "   2: 0.08209501077918079,\n",
              "   3: 0.08506890976285802,\n",
              "   4: 0.12307514628888204,\n",
              "   5: 0.11789728980597475},\n",
              "  'Gate location': {0: 9.624268555589775e-06,\n",
              "   1: 0.08376000923929781,\n",
              "   2: 0.08628156760086234,\n",
              "   3: 0.09549199260856175,\n",
              "   4: 0.09133430859254697,\n",
              "   5: 0.07645518940560517},\n",
              "  'Gender': {0: 0.21687326763165998, 1: 0.21645942408376964},\n",
              "  'Inflight entertainment': {1: 0.016794348629504158,\n",
              "   2: 0.03620649830612874,\n",
              "   3: 0.04974784416384355,\n",
              "   4: 0.17323683400061596,\n",
              "   5: 0.15734716661533724},\n",
              "  'Inflight service': {1: 0.019768247613181397,\n",
              "   2: 0.033213350785340316,\n",
              "   3: 0.046687326763166,\n",
              "   4: 0.17447836464428704,\n",
              "   5: 0.15918540190945488},\n",
              "  'Inflight wifi service': {0: 0.029787111179550355,\n",
              "   1: 0.055878503233754234,\n",
              "   2: 0.061816676932553126,\n",
              "   3: 0.062384508777332925,\n",
              "   4: 0.11410532799507238,\n",
              "   5: 0.10936056359716662},\n",
              "  'Leg room service': {0: 0.0015976285802279026,\n",
              "   1: 0.020210963966738528,\n",
              "   2: 0.051614952263627965,\n",
              "   3: 0.05269287034185402,\n",
              "   4: 0.161341238065907,\n",
              "   5: 0.14587503849707423},\n",
              "  'On-board service': {1: 0.02213581767785648,\n",
              "   2: 0.03612950415768402,\n",
              "   3: 0.0693717277486911,\n",
              "   4: 0.15948375423467817,\n",
              "   5: 0.14621188789651987},\n",
              "  'Online boarding': {0: 0.013002386818601787,\n",
              "   1: 0.01417654758238374,\n",
              "   2: 0.019431398213735757,\n",
              "   3: 0.028478210655990144,\n",
              "   4: 0.18445873113643363,\n",
              "   5: 0.17378541730828456},\n",
              "  'Seat comfort': {1: 0.025937403757314445,\n",
              "   2: 0.03213543270711426,\n",
              "   3: 0.03806398213735756,\n",
              "   4: 0.17155258700338774,\n",
              "   5: 0.1656432861102556},\n",
              "  'Type of Travel': {0: 0.40177471512165075, 1: 0.031557976593778875}}}"
            ]
          },
          "metadata": {
            "tags": []
          },
          "execution_count": 39
        }
      ]
    },
    {
      "cell_type": "code",
      "metadata": {
        "colab": {
          "base_uri": "https://localhost:8080/"
        },
        "id": "UYristkW-7_Y",
        "outputId": "413250b8-0b4b-4b18-f406-e8fc6d8e0592"
      },
      "source": [
        "#Training accuracy by binning age\n",
        "\n",
        "get_prediction_accuracy(train,'satisfaction',p_data_binned,p_pred_binned,p_data_given_pred_binned)"
      ],
      "execution_count": 40,
      "outputs": [
        {
          "output_type": "execute_result",
          "data": {
            "text/plain": [
              "0.8210752232830305"
            ]
          },
          "metadata": {
            "tags": []
          },
          "execution_count": 40
        }
      ]
    },
    {
      "cell_type": "code",
      "metadata": {
        "colab": {
          "base_uri": "https://localhost:8080/"
        },
        "id": "mT5aFXB8_rkr",
        "outputId": "3252bbad-75c7-40ce-8531-d22f3688b81e"
      },
      "source": [
        "#Testing accuracy by binning age\n",
        "\n",
        "get_prediction_accuracy(test,'satisfaction',p_data_binned,p_pred_binned,p_data_given_pred_binned)"
      ],
      "execution_count": 41,
      "outputs": [
        {
          "output_type": "execute_result",
          "data": {
            "text/plain": [
              "0.725669849091469"
            ]
          },
          "metadata": {
            "tags": []
          },
          "execution_count": 41
        }
      ]
    },
    {
      "cell_type": "code",
      "metadata": {
        "colab": {
          "base_uri": "https://localhost:8080/"
        },
        "id": "_McUZW10qabo",
        "outputId": "74e73da1-8c21-4357-8d8c-07d5317d18a7"
      },
      "source": [
        "#get range of values for continuous features\n",
        "\n",
        "train1 =pd.read_csv('train.csv',index_col=0)\n",
        "test1 =pd.read_csv('test.csv',index_col=0)\n",
        "\n",
        "#Range of values in column Departure delay in minutes\n",
        "\n",
        "x = sorted(train1['Departure Delay in Minutes'].unique())\n",
        "print(x[0], x[len(x)-1])\n",
        "\n",
        "#Range of values in column Arrival delay in minutes\n",
        "\n",
        "x = sorted(train1['Arrival Delay in Minutes'].unique())\n",
        "print(x[0], x[len(x)-1])\n",
        "\n",
        "#Range of values in column Flight Distance in minutes\n",
        "\n",
        "x = sorted(train1['Flight Distance'].unique())\n",
        "print(x[0], x[len(x)-1])\n"
      ],
      "execution_count": 166,
      "outputs": [
        {
          "output_type": "stream",
          "text": [
            "0 1592\n",
            "0.0 1584.0\n",
            "31 4983\n"
          ],
          "name": "stdout"
        }
      ]
    },
    {
      "cell_type": "code",
      "metadata": {
        "id": "c3gm2e8lPdnj"
      },
      "source": [
        "#Define a general function to print accuracy of training and testing dataset\n",
        "def get_accuracy(train, test):\n",
        "\n",
        "  categorify(train)\n",
        "  categorify(test)\n",
        "\n",
        "  p_pred_binned = get_ppred(train,'satisfaction')\n",
        "  p_data_binned=get_pdata(train)\n",
        "  p_data_given_pred_binned = get_pdata_given_pred(train)\n",
        "\n",
        "  print(\"Training accuracy: \"+ str(get_prediction_accuracy(train,'satisfaction',p_data_binned,p_pred_binned,p_data_given_pred_binned)))\n",
        "  print(\"Testing accuracy: \"+str(get_prediction_accuracy(test,'satisfaction',p_data_binned,p_pred_binned,p_data_given_pred_binned)))"
      ],
      "execution_count": 167,
      "outputs": []
    },
    {
      "cell_type": "code",
      "metadata": {
        "id": "U3SPAABurl7Y"
      },
      "source": [
        "#Binerize Departure delay in minutes\n",
        "\n",
        "def bin_departure_delay(train, test):\n",
        "  train['Departure Delay in Minutes'] = [math.floor(i/100) for i in train['Departure Delay in Minutes']]\n",
        "  test['Departure Delay in Minutes'] = [math.floor(i/100) for i in test['Departure Delay in Minutes']] \n",
        "\n",
        "  return train, test \n",
        "\n",
        "#Binerize Departure delay in minutes\n",
        "\n",
        "def bin_arrival_delay(train, test):\n",
        "\n",
        "  train['Arrival Delay in Minutes'] = [math.floor(i/100) for i in train['Arrival Delay in Minutes']]\n",
        "  test['Arrival Delay in Minutes'] = [math.floor(i/100) for i in test['Arrival Delay in Minutes']] \n",
        "\n",
        "  return train, test \n",
        "\n",
        "#Binerize Age\n",
        "\n",
        "def bin_age(train, test):\n",
        "  \n",
        "  train['Age'] = [math.floor(i/10) for i in train['Age']]\n",
        "  test['Age'] = [math.floor(i/10) for i in test['Age']]\n",
        "  return train, test \n",
        "\n",
        "#Binerize Flight Distance\n",
        "\n",
        "def bin_dist(train, test):\n",
        "  \n",
        "  train['Flight Distance'] = [math.floor(i/10) for i in train['Flight Distance']]\n",
        "  test['Flight Distance'] = [math.floor(i/10) for i in test['Flight Distance']]\n",
        "  return train, test \n"
      ],
      "execution_count": 177,
      "outputs": []
    },
    {
      "cell_type": "code",
      "metadata": {
        "id": "-X0ju8uOQ9AD",
        "colab": {
          "base_uri": "https://localhost:8080/"
        },
        "outputId": "dc2cc9bf-4955-4fb3-90d6-32f636a84672"
      },
      "source": [
        "# 1. Accuracy with Departure Delay in Minutes and Arrival Delay in Minutes binned\n",
        "train2 =pd.read_csv('train.csv',index_col=0).drop(['id','Flight Distance','Age'],axis=1) \n",
        "test2 =pd.read_csv('test.csv',index_col=0).drop(['id','Flight Distance','Age'],axis=1)\n",
        "\n",
        "train2 = train2.dropna()\n",
        "test2 = test2.dropna()\n",
        "\n",
        "train2, test2 = bin_departure_delay(train2, test2)\n",
        "train2, test2 = bin_arrival_delay(train2, test2)\n",
        "\n",
        "get_accuracy(train2, test2)"
      ],
      "execution_count": 178,
      "outputs": [
        {
          "output_type": "stream",
          "text": [
            "/usr/local/lib/python3.6/dist-packages/ipykernel_launcher.py:2: UserWarning: Pandas doesn't allow columns to be created via a new attribute name - see https://pandas.pydata.org/pandas-docs/stable/indexing.html#attribute-access\n",
            "  \n"
          ],
          "name": "stderr"
        },
        {
          "output_type": "stream",
          "text": [
            "Training accuracy: 0.8077205243546923\n",
            "Testing accuracy: 0.7095353956667825\n"
          ],
          "name": "stdout"
        }
      ]
    },
    {
      "cell_type": "code",
      "metadata": {
        "colab": {
          "base_uri": "https://localhost:8080/"
        },
        "id": "MqWrsBym-Tvl",
        "outputId": "e634081f-f363-428a-f13f-f5fa7836248e"
      },
      "source": [
        "# 2. Accuracy with all categorical features binned binned\n",
        "train3 =pd.read_csv('train.csv',index_col=0).drop(['id'],axis=1) \n",
        "test3 =pd.read_csv('test.csv',index_col=0).drop(['id'],axis=1)\n",
        "\n",
        "train3 = train3.dropna()\n",
        "test3 = test3.dropna()\n",
        "\n",
        "train3, test3 = bin_departure_delay(train3, test3)\n",
        "train3, test3 = bin_arrival_delay(train3, test3)\n",
        "train3, test3 = bin_dist(train3, test3)\n",
        "train3, test3 = bin_age(train3, test3)\n",
        "\n",
        "get_accuracy(train3, test3)"
      ],
      "execution_count": 171,
      "outputs": [
        {
          "output_type": "stream",
          "text": [
            "/usr/local/lib/python3.6/dist-packages/ipykernel_launcher.py:2: UserWarning: Pandas doesn't allow columns to be created via a new attribute name - see https://pandas.pydata.org/pandas-docs/stable/indexing.html#attribute-access\n",
            "  \n"
          ],
          "name": "stderr"
        },
        {
          "output_type": "stream",
          "text": [
            "Training accuracy: 0.8031160105797633\n",
            "Testing accuracy: 0.7099216004325494\n"
          ],
          "name": "stdout"
        }
      ]
    },
    {
      "cell_type": "code",
      "metadata": {
        "colab": {
          "base_uri": "https://localhost:8080/"
        },
        "id": "QHZ7qvKR_fv1",
        "outputId": "a6259143-6610-49e7-b0fd-970b3597c517"
      },
      "source": [
        "# 3. Accuracy with Flight Distance binned\n",
        "train4 =pd.read_csv('train.csv',index_col=0).drop(['id','Departure Delay in Minutes','Arrival Delay in Minutes','Age'],axis=1) \n",
        "test4 =pd.read_csv('test.csv',index_col=0).drop(['id','Departure Delay in Minutes','Arrival Delay in Minutes','Age'],axis=1)\n",
        "\n",
        "train4 = train4.dropna()\n",
        "test4= test4.dropna()\n",
        "\n",
        "train4, test4 = bin_dist(train4, test4)\n",
        "\n",
        "\n",
        "get_accuracy(train4, test4)"
      ],
      "execution_count": 172,
      "outputs": [
        {
          "output_type": "stream",
          "text": [
            "/usr/local/lib/python3.6/dist-packages/ipykernel_launcher.py:2: UserWarning: Pandas doesn't allow columns to be created via a new attribute name - see https://pandas.pydata.org/pandas-docs/stable/indexing.html#attribute-access\n",
            "  \n"
          ],
          "name": "stderr"
        },
        {
          "output_type": "stream",
          "text": [
            "Training accuracy: 0.8242512319063752\n",
            "Testing accuracy: 0.7297505389590391\n"
          ],
          "name": "stdout"
        }
      ]
    },
    {
      "cell_type": "code",
      "metadata": {
        "colab": {
          "base_uri": "https://localhost:8080/"
        },
        "id": "QOpBbm25AXXc",
        "outputId": "2700fad3-c622-4f6d-fcaf-9cd8df9feda6"
      },
      "source": [
        "# 4. Accuracy with Flight Distance and Delays binned\n",
        "train5 =pd.read_csv('train.csv',index_col=0).drop(['id','Age'],axis=1) \n",
        "test5 =pd.read_csv('test.csv',index_col=0).drop(['id','Age'],axis=1)\n",
        "\n",
        "train5 = train5.dropna()\n",
        "test5= test5.dropna()\n",
        "\n",
        "train5, test5 = bin_dist(train5, test5)\n",
        "train5, test5 = bin_departure_delay(train5, test5)\n",
        "train5, test5 = bin_arrival_delay(train5, test5)\n",
        "\n",
        "get_accuracy(train5, test5)"
      ],
      "execution_count": 173,
      "outputs": [
        {
          "output_type": "stream",
          "text": [
            "/usr/local/lib/python3.6/dist-packages/ipykernel_launcher.py:2: UserWarning: Pandas doesn't allow columns to be created via a new attribute name - see https://pandas.pydata.org/pandas-docs/stable/indexing.html#attribute-access\n",
            "  \n"
          ],
          "name": "stderr"
        },
        {
          "output_type": "stream",
          "text": [
            "Training accuracy: 0.8074405853620866\n",
            "Testing accuracy: 0.7123160699803036\n"
          ],
          "name": "stdout"
        }
      ]
    },
    {
      "cell_type": "markdown",
      "metadata": {
        "id": "jd9YThtoBCWK"
      },
      "source": [
        "# The maximum accuracy in training and test dataset is observed when only Flight Delay is binnerised\n",
        "\n",
        "---"
      ]
    },
    {
      "cell_type": "markdown",
      "metadata": {
        "id": "m5HEq-hcB7L3"
      },
      "source": [
        "# Categorical sections such as Gender, Gate Location do not affect the customer satisfaction\n",
        "\n"
      ]
    },
    {
      "cell_type": "code",
      "metadata": {
        "colab": {
          "base_uri": "https://localhost:8080/"
        },
        "id": "xr027m1-Bgbc",
        "outputId": "7531ad5e-a7d6-41e3-afc9-31fe3881d136"
      },
      "source": [
        "train6 =pd.read_csv('train.csv',index_col=0).drop(['id','Departure Delay in Minutes','Arrival Delay in Minutes','Flight Distance', 'Gender', 'Gate location'],axis=1) \n",
        "test6 =pd.read_csv('test.csv',index_col=0).drop(['id','Departure Delay in Minutes','Arrival Delay in Minutes','Flight Distance', 'Gender', 'Gate location'],axis=1)\n",
        "\n",
        "train6 = train6.dropna()\n",
        "test6= test6.dropna()\n",
        "\n",
        "get_accuracy(train6, test6)"
      ],
      "execution_count": 175,
      "outputs": [
        {
          "output_type": "stream",
          "text": [
            "/usr/local/lib/python3.6/dist-packages/ipykernel_launcher.py:2: UserWarning: Pandas doesn't allow columns to be created via a new attribute name - see https://pandas.pydata.org/pandas-docs/stable/indexing.html#attribute-access\n",
            "  \n"
          ],
          "name": "stderr"
        },
        {
          "output_type": "stream",
          "text": [
            "Training accuracy: 0.8385240221743148\n",
            "Testing accuracy: 0.7805281798583308\n"
          ],
          "name": "stdout"
        }
      ]
    },
    {
      "cell_type": "markdown",
      "metadata": {
        "id": "Sgnryb1hDD2F"
      },
      "source": [
        "By removing the above mentioned variables, the training accuracy increased to 0.838 and testing accuracy increased to 0.7805"
      ]
    },
    {
      "cell_type": "markdown",
      "metadata": {
        "id": "GvfXbXrMw9uN"
      },
      "source": [
        "## Problem 2: Markov? Shakespeare? What is in the name!\r\n",
        "\r\n",
        "We learnt that the next prediction of a Markov Model only depends on the present prediction/value, i.e. the model is a *memoryless* model.\r\n",
        "\r\n",
        "Let us build a memory model, ie a model, which also takes into account the predecessor of the current prediction, along with the current prediction itself. Meaning, what would be the next word, given the last *2* predictions?!\r\n",
        "\r\n",
        "But this most probably won't work on the text we wrote above (the boring text), because it contains only 2400 words. So there is a very low probability that the successor of two consecutive words will have more than one possible options. We will end up getting the exact same text as the text we wrote, or almost on the same lines. \r\n",
        "\r\n",
        "Let us download a bigger text file - how about a whole Shakespeare play. And we will try to build a model that can predict text in the style of Shakespeare!\r\n",
        "\r\n",
        "Let us download this dataset and put it in a string."
      ]
    },
    {
      "cell_type": "code",
      "metadata": {
        "id": "vvjtcaKx9rlU",
        "colab": {
          "base_uri": "https://localhost:8080/"
        },
        "outputId": "790d814b-e4ef-428a-d884-f6f262894d51"
      },
      "source": [
        "!kaggle datasets download -d adarshpathak/shakespeare-text\r\n",
        "!unzip shakespeare-text"
      ],
      "execution_count": 65,
      "outputs": [
        {
          "output_type": "stream",
          "text": [
            "shakespeare-text.zip: Skipping, found more recently modified local copy (use --force to force download)\n",
            "Archive:  shakespeare-text.zip\n",
            "replace text.txt? [y]es, [n]o, [A]ll, [N]one, [r]ename: y\n",
            "  inflating: text.txt                \n"
          ],
          "name": "stdout"
        }
      ]
    },
    {
      "cell_type": "code",
      "metadata": {
        "id": "YQVr_-xV9xvu"
      },
      "source": [
        "from pathlib import Path\r\n",
        "txt = Path('text.txt').read_text()"
      ],
      "execution_count": 66,
      "outputs": []
    },
    {
      "cell_type": "markdown",
      "metadata": {
        "id": "XgQiaPo9AXLM"
      },
      "source": [
        "Now we need to define our functions. We've written the code to incorporate two consecutive words at once. "
      ]
    },
    {
      "cell_type": "code",
      "metadata": {
        "id": "I27Or_kdxyeB"
      },
      "source": [
        "def simplify(text: str):\r\n",
        "    words = re.sub(r\"\\W+|_\", \" \", text).lower().split()\r\n",
        "    return [' '.join((words[i],words[i+1])) for i,_ in enumerate(words[:-1])], words "
      ],
      "execution_count": 67,
      "outputs": []
    },
    {
      "cell_type": "code",
      "metadata": {
        "id": "zJ9SNMZ-0FZZ"
      },
      "source": [
        "def get_occurences(text: list,original_wordlist):\r\n",
        "\r\n",
        "    dictionary={k:[] for k in set(text)}\r\n",
        "    # dictionary['unk']=text\r\n",
        "    for k,i in enumerate(text[:-1]):\r\n",
        "        dictionary.get(i).append(text[k+1])\r\n",
        "    for key in dictionary: \r\n",
        "        if not dictionary.get(key): dictionary.get(key).extend(text)\r\n",
        "    \r\n",
        "    return dictionary"
      ],
      "execution_count": 78,
      "outputs": []
    },
    {
      "cell_type": "markdown",
      "metadata": {
        "id": "g4fjq6RWA9NT"
      },
      "source": [
        "Continue the code from here, and write the loop function to generate the Markov Chain Model's predictions. \r\n",
        "\r\n",
        "Randomly choose a word, and predict the next 100 words."
      ]
    },
    {
      "cell_type": "code",
      "metadata": {
        "id": "-fK9KgoYCDHq"
      },
      "source": [
        "mem_text, txt_simplified = simplify(txt)\n"
      ],
      "execution_count": 79,
      "outputs": []
    },
    {
      "cell_type": "code",
      "metadata": {
        "id": "g2p6OmpKAudz"
      },
      "source": [
        "txt_dict = get_occurences(mem_text, txt_simplified)\n"
      ],
      "execution_count": 124,
      "outputs": []
    },
    {
      "cell_type": "code",
      "metadata": {
        "colab": {
          "base_uri": "https://localhost:8080/",
          "height": 35
        },
        "id": "QX6dHo8qHaq1",
        "outputId": "1ec5ee71-ca68-419e-993c-c281233bd96f"
      },
      "source": [
        "init_word = random.choice(mem_text)\n",
        "init_word"
      ],
      "execution_count": 145,
      "outputs": [
        {
          "output_type": "execute_result",
          "data": {
            "application/vnd.google.colaboratory.intrinsic+json": {
              "type": "string"
            },
            "text/plain": [
              "'lustful eye'"
            ]
          },
          "metadata": {
            "tags": []
          },
          "execution_count": 145
        }
      ]
    },
    {
      "cell_type": "code",
      "metadata": {
        "colab": {
          "base_uri": "https://localhost:8080/",
          "height": 105
        },
        "id": "0hAIPlF0HmzJ",
        "outputId": "51afe45b-72d8-4582-f3bc-0d89dea52837"
      },
      "source": [
        "pred_text = init_word\n",
        "for _ in range(100): \n",
        "    word = random.choice(txt_dict[init_word]).split()[-1]\n",
        "    pred_text = pred_text+\" \"+word\n",
        "    init_word = pred_text.split()[-2]+\" \"+pred_text.split()[-1]\n",
        "pred_text\n"
      ],
      "execution_count": 146,
      "outputs": [
        {
          "output_type": "execute_result",
          "data": {
            "application/vnd.google.colaboratory.intrinsic+json": {
              "type": "string"
            },
            "text/plain": [
              "'lustful eye or so devote to aristotle s cheques as ovid be an arch so hurried the blown tide as the morality of imprisonment what s the very pink of courtesy but i am nor that is past but a greater confirmation for in a triumphant grave a grave man i see thee walk thou dost i here proclaim yourself our king but great york s wife he lived from all such devils good lord of ireland c montague and i know her father to greet the tender temples of the finer natures by some accident should pass this doing sicinius sir'"
            ]
          },
          "metadata": {
            "tags": []
          },
          "execution_count": 146
        }
      ]
    }
  ]
}